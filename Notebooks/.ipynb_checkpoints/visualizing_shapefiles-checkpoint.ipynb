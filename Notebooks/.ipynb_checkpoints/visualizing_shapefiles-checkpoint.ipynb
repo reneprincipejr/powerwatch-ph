{
 "cells": [
  {
   "cell_type": "code",
   "execution_count": 1,
   "id": "06a78e2f-452e-4a72-85e0-fd3a432d3168",
   "metadata": {},
   "outputs": [],
   "source": [
    "import geopandas as gpd\n",
    "import os\n",
    "import matplotlib.pyplot as plt\n",
    "import pandas as pd\n",
    "import numpy as np\n",
    "import seaborn as sns\n",
    "from mpl_toolkits.axes_grid1 import make_axes_locatable\n",
    "from matplotlib import cm\n"
   ]
  },
  {
   "cell_type": "code",
   "execution_count": 4,
   "id": "f993e26f-419b-4b08-8f65-82a666b31c8d",
   "metadata": {},
   "outputs": [
    {
     "data": {
      "text/plain": [
       "'/Users/reneprincipejr/Library/CloudStorage/OneDrive-RMITUniversity/Research/Notebooks'"
      ]
     },
     "execution_count": 4,
     "metadata": {},
     "output_type": "execute_result"
    }
   ],
   "source": [
    "os.getcwd()\n"
   ]
  },
  {
   "cell_type": "code",
   "execution_count": 7,
   "id": "65e54e46-9495-44b0-b2b7-b94a4d9d98f4",
   "metadata": {},
   "outputs": [],
   "source": [
    "path = \"../Datasets/shapefiles/PhilGIS/\"\n",
    "# path = '/content/drive/MyDrive/Research - PhD/shapefiles/PhilGIS/'\n",
    "sf_gpd_country = gpd.read_file(path + \"Country (extract.me)/Country.shp\")\n",
    "sf_gpd_regions = gpd.read_file(path + \"Regions (extract.me)/Regions.shp\")\n",
    "sf_gpd_municities = gpd.read_file(path + \"MuniCities/MuniCities.shp\")\n",
    "sf_gpd_provinces = gpd.read_file(path + \"Provinces/Provinces.shp\")\n",
    "sf_gpd_roads = gpd.read_file(path + \"Roads/roads.shp\")"
   ]
  },
  {
   "cell_type": "code",
   "execution_count": null,
   "id": "e0fe8a53-d60c-46d1-a016-28c5d07d5772",
   "metadata": {},
   "outputs": [],
   "source": [
    "plt.figure(dpi = 200)\n",
    "plt.subplot(151)\n",
    "sf_gpd_country.plot(edgecolor=\"black\", linewidth = 0.5, facecolor=\"None\", ax = plt.gca())\n",
    "plt.axis(\"off\")\n",
    "plt.title(\"Admin Level 0: National\")\n",
    "plt.subplot(152)\n",
    "sf_gpd_regions.plot(edgecolor=\"red\", linewidth = 0.5, facecolor=\"None\", ax = plt.gca())\n",
    "plt.rc('font', size = 5)\n",
    "plt.axis(\"off\")\n",
    "plt.title(\"Admin Level 1: Regional\")\n",
    "plt.subplot(153)\n",
    "sf_gpd_provinces.plot(edgecolor=\"orange\", linewidth = 0.5, facecolor=\"None\", ax = plt.gca())\n",
    "plt.rc('font', size = 5)\n",
    "plt.axis(\"off\")\n",
    "plt.title(\"Admin Level 2: Provincial\")\n",
    "plt.subplot(154)\n",
    "sf_gpd_municities.plot(edgecolor=\"green\", linewidth = 0.5, facecolor=\"None\", ax = plt.gca())\n",
    "plt.rc('font', size = 5)\n",
    "plt.axis(\"off\")\n",
    "plt.title(\"Admin Level 3: City/Municipality\")\n",
    "plt.subplot(155)\n",
    "sf_gpd_roads.plot(edgecolor=\"blue\", linewidth = 0.5, facecolor=\"None\", ax = plt.gca())\n",
    "plt.rc('font', size = 5)\n",
    "plt.axis(\"off\")\n",
    "plt.title(\"Road Network\")\n",
    "plt.tight_layout()"
   ]
  },
  {
   "cell_type": "code",
   "execution_count": null,
   "id": "000910bc-a3ef-4ea7-8666-fc2c58982548",
   "metadata": {},
   "outputs": [],
   "source": []
  }
 ],
 "metadata": {
  "kernelspec": {
   "display_name": "Python [conda env:base] *",
   "language": "python",
   "name": "conda-base-py"
  },
  "language_info": {
   "codemirror_mode": {
    "name": "ipython",
    "version": 3
   },
   "file_extension": ".py",
   "mimetype": "text/x-python",
   "name": "python",
   "nbconvert_exporter": "python",
   "pygments_lexer": "ipython3",
   "version": "3.12.7"
  }
 },
 "nbformat": 4,
 "nbformat_minor": 5
}
