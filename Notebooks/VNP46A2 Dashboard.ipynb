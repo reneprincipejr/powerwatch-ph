{
 "cells": [
  {
   "cell_type": "code",
   "execution_count": 1,
   "id": "f6d6fac8",
   "metadata": {},
   "outputs": [],
   "source": [
    "import os\n",
    "import numpy as np\n",
    "import pandas as pd\n",
    "\n",
    "import rasterio\n",
    "import plotly.graph_objects as go\n",
    "from plotly.subplots import make_subplots\n",
    "\n",
    "from datetime import datetime"
   ]
  },
  {
   "cell_type": "code",
   "execution_count": null,
   "id": "f96c940d",
   "metadata": {},
   "outputs": [],
   "source": [
    "# 🔧 Update this path to match your TIFF directory\n",
    "folder = \"../Datasets/VNP46A2_AllBands_Nov2013/\"\n",
    "file_list = sorted([f for f in os.listdir(folder) if f.endswith(\".tif\")])"
   ]
  },
  {
   "cell_type": "code",
   "execution_count": null,
   "id": "28bfed79",
   "metadata": {},
   "outputs": [],
   "source": [
    "# 🔧 Path to your TIFF file\n",
    "tiff_path = \"../Datasets/VNP46A2_AllBands_Nov2013/VNP46A2_Region8_20131110.tif\"\n",
    "\n",
    "# Band names in order of appearance (7 bands)\n",
    "band_names = [\n",
    "    'DNB_BRDF_Corrected_NTL',\n",
    "    'DNB_Lunar_Irradiance',\n",
    "    'Gap_Filled_DNB_BRDF_Corrected_NTL',\n",
    "    'Latest_High_Quality_Retrieval',\n",
    "    'Mandatory_Quality_Flag',\n",
    "    'QF_Cloud_Mask',\n",
    "    'Snow_Flag'\n",
    "]\n",
    "\n",
    "# 📊 Read and summarize each band\n",
    "summaries = []\n",
    "\n",
    "with rasterio.open(tiff_path) as src:\n",
    "    data = src.read()  # shape: (bands, height, width)\n",
    "\n",
    "    for i, band_array in enumerate(data):\n",
    "        band_name = band_names[i]\n",
    "        flat = band_array.flatten()\n",
    "\n",
    "        # Remove NaNs and Fill Values (255 for some flags)\n",
    "        clean = flat[~np.isnan(flat)]\n",
    "        if band_name == \"Mandatory_Quality_Flag\":\n",
    "            clean = clean[clean != 255]\n",
    "\n",
    "        stats = {\n",
    "            \"Band\": band_name,\n",
    "            \"Min\": np.nanmin(clean),\n",
    "            \"Max\": np.nanmax(clean),\n",
    "            \"Mean\": np.nanmean(clean),\n",
    "            \"Median\": np.nanmedian(clean),\n",
    "            \"Std\": np.nanstd(clean),\n",
    "            \"Valid Pixels\": np.count_nonzero(~np.isnan(clean)),\n",
    "            \"Total Pixels\": flat.size\n",
    "        }\n",
    "\n",
    "        summaries.append(stats)\n",
    "\n",
    "# ⬇️ Output as DataFrame\n",
    "df_summary = pd.DataFrame(summaries)\n",
    "print(df_summary)"
   ]
  },
  {
   "cell_type": "code",
   "execution_count": 51,
   "id": "be7a1928",
   "metadata": {},
   "outputs": [],
   "source": [
    "import os\n",
    "import numpy as np\n",
    "import pandas as pd\n",
    "import rasterio\n",
    "\n",
    "# 🔧 Update this to your TIFF folder path\n",
    "folder = \"../Datasets/VNP46A2_AllBands_Nov2013/\"\n",
    "\n",
    "# Band names based on native TIFF order\n",
    "band_names = [\n",
    "    'DNB_BRDF_Corrected_NTL',\n",
    "    'DNB_Lunar_Irradiance',\n",
    "    'Gap_Filled_DNB_BRDF_Corrected_NTL',\n",
    "    'Latest_High_Quality_Retrieval',\n",
    "    'Mandatory_Quality_Flag',\n",
    "    'QF_Cloud_Mask',\n",
    "    'Snow_Flag'\n",
    "]\n",
    "\n",
    "all_stats = []\n",
    "\n",
    "# List TIFF files\n",
    "tif_files = sorted([f for f in os.listdir(folder) if f.endswith('.tif')])\n",
    "\n",
    "# Loop over each file\n",
    "for fname in tif_files:\n",
    "    path = os.path.join(folder, fname)\n",
    "    date = fname[-12:-4]  # assumes 'VNP46A2_YYYYMMDD.tif'\n",
    "\n",
    "    with rasterio.open(path) as src:\n",
    "        bands = src.read()\n",
    "        mask = bands[5]  # Assume QF_Cloud_Mask is always non-NaN in masked area\n",
    "        valid_mask = ~np.isnan(mask)\n",
    "\n",
    "        for i, band in enumerate(bands):\n",
    "            band_name = band_names[i]\n",
    "            band_data = band.astype(np.float32)\n",
    "            band_data[~valid_mask] = np.nan  # restrict to masked region only\n",
    "\n",
    "            if band_name == \"Mandatory_Quality_Flag\":\n",
    "                band_data[band_data == 255] = np.nan  # remove fill values\n",
    "\n",
    "            flat = band_data.flatten()\n",
    "            clean = flat[~np.isnan(flat)]\n",
    "\n",
    "            stats = {\n",
    "                \"Date\": date,\n",
    "                \"Band\": band_name,\n",
    "                \"Min\": np.min(clean) if clean.size else np.nan,\n",
    "                \"Max\": np.max(clean) if clean.size else np.nan,\n",
    "                \"Mean\": np.mean(clean) if clean.size else np.nan,\n",
    "                \"Median\": np.median(clean) if clean.size else np.nan,\n",
    "                \"Std\": np.std(clean) if clean.size else np.nan,\n",
    "                \"Valid Pixels\": len(clean),\n",
    "                \"Total Pixels\": np.count_nonzero(valid_mask)\n",
    "            }\n",
    "\n",
    "            all_stats.append(stats)\n",
    "\n",
    "# Compile into DataFrame\n",
    "df_stats = pd.DataFrame(all_stats)"
   ]
  },
  {
   "cell_type": "code",
   "execution_count": 52,
   "id": "aae8a20c",
   "metadata": {},
   "outputs": [
    {
     "data": {
      "text/html": [
       "<div>\n",
       "<style scoped>\n",
       "    .dataframe tbody tr th:only-of-type {\n",
       "        vertical-align: middle;\n",
       "    }\n",
       "\n",
       "    .dataframe tbody tr th {\n",
       "        vertical-align: top;\n",
       "    }\n",
       "\n",
       "    .dataframe thead th {\n",
       "        text-align: right;\n",
       "    }\n",
       "</style>\n",
       "<table border=\"1\" class=\"dataframe\">\n",
       "  <thead>\n",
       "    <tr style=\"text-align: right;\">\n",
       "      <th></th>\n",
       "      <th>Date</th>\n",
       "      <th>Band</th>\n",
       "      <th>Min</th>\n",
       "      <th>Max</th>\n",
       "      <th>Mean</th>\n",
       "      <th>Median</th>\n",
       "      <th>Std</th>\n",
       "      <th>Valid Pixels</th>\n",
       "      <th>Total Pixels</th>\n",
       "    </tr>\n",
       "  </thead>\n",
       "  <tbody>\n",
       "    <tr>\n",
       "      <th>0</th>\n",
       "      <td>20131101</td>\n",
       "      <td>DNB_BRDF_Corrected_NTL</td>\n",
       "      <td>0.000019</td>\n",
       "      <td>56.098885</td>\n",
       "      <td>0.324104</td>\n",
       "      <td>0.226140</td>\n",
       "      <td>0.955966</td>\n",
       "      <td>61107</td>\n",
       "      <td>89614</td>\n",
       "    </tr>\n",
       "    <tr>\n",
       "      <th>1</th>\n",
       "      <td>20131101</td>\n",
       "      <td>DNB_Lunar_Irradiance</td>\n",
       "      <td>0.500000</td>\n",
       "      <td>0.500000</td>\n",
       "      <td>0.500000</td>\n",
       "      <td>0.500000</td>\n",
       "      <td>0.000000</td>\n",
       "      <td>89614</td>\n",
       "      <td>89614</td>\n",
       "    </tr>\n",
       "    <tr>\n",
       "      <th>2</th>\n",
       "      <td>20131101</td>\n",
       "      <td>Gap_Filled_DNB_BRDF_Corrected_NTL</td>\n",
       "      <td>0.000019</td>\n",
       "      <td>62.730175</td>\n",
       "      <td>0.282541</td>\n",
       "      <td>0.173741</td>\n",
       "      <td>0.927460</td>\n",
       "      <td>89614</td>\n",
       "      <td>89614</td>\n",
       "    </tr>\n",
       "    <tr>\n",
       "      <th>3</th>\n",
       "      <td>20131101</td>\n",
       "      <td>Latest_High_Quality_Retrieval</td>\n",
       "      <td>0.000000</td>\n",
       "      <td>26.000000</td>\n",
       "      <td>0.467838</td>\n",
       "      <td>0.000000</td>\n",
       "      <td>1.358954</td>\n",
       "      <td>89610</td>\n",
       "      <td>89614</td>\n",
       "    </tr>\n",
       "    <tr>\n",
       "      <th>4</th>\n",
       "      <td>20131101</td>\n",
       "      <td>Mandatory_Quality_Flag</td>\n",
       "      <td>0.000000</td>\n",
       "      <td>1.000000</td>\n",
       "      <td>0.002815</td>\n",
       "      <td>0.000000</td>\n",
       "      <td>0.052979</td>\n",
       "      <td>61107</td>\n",
       "      <td>89614</td>\n",
       "    </tr>\n",
       "    <tr>\n",
       "      <th>...</th>\n",
       "      <td>...</td>\n",
       "      <td>...</td>\n",
       "      <td>...</td>\n",
       "      <td>...</td>\n",
       "      <td>...</td>\n",
       "      <td>...</td>\n",
       "      <td>...</td>\n",
       "      <td>...</td>\n",
       "      <td>...</td>\n",
       "    </tr>\n",
       "    <tr>\n",
       "      <th>205</th>\n",
       "      <td>20131130</td>\n",
       "      <td>Gap_Filled_DNB_BRDF_Corrected_NTL</td>\n",
       "      <td>0.000025</td>\n",
       "      <td>27.793741</td>\n",
       "      <td>0.165498</td>\n",
       "      <td>0.139296</td>\n",
       "      <td>0.333716</td>\n",
       "      <td>89614</td>\n",
       "      <td>89614</td>\n",
       "    </tr>\n",
       "    <tr>\n",
       "      <th>206</th>\n",
       "      <td>20131130</td>\n",
       "      <td>Latest_High_Quality_Retrieval</td>\n",
       "      <td>0.000000</td>\n",
       "      <td>29.000000</td>\n",
       "      <td>0.558379</td>\n",
       "      <td>0.000000</td>\n",
       "      <td>1.423635</td>\n",
       "      <td>89613</td>\n",
       "      <td>89614</td>\n",
       "    </tr>\n",
       "    <tr>\n",
       "      <th>207</th>\n",
       "      <td>20131130</td>\n",
       "      <td>Mandatory_Quality_Flag</td>\n",
       "      <td>0.000000</td>\n",
       "      <td>1.000000</td>\n",
       "      <td>0.000101</td>\n",
       "      <td>0.000000</td>\n",
       "      <td>0.010060</td>\n",
       "      <td>69154</td>\n",
       "      <td>89614</td>\n",
       "    </tr>\n",
       "    <tr>\n",
       "      <th>208</th>\n",
       "      <td>20131130</td>\n",
       "      <td>QF_Cloud_Mask</td>\n",
       "      <td>34.000000</td>\n",
       "      <td>2298.000000</td>\n",
       "      <td>133.073944</td>\n",
       "      <td>50.000000</td>\n",
       "      <td>315.425629</td>\n",
       "      <td>89614</td>\n",
       "      <td>89614</td>\n",
       "    </tr>\n",
       "    <tr>\n",
       "      <th>209</th>\n",
       "      <td>20131130</td>\n",
       "      <td>Snow_Flag</td>\n",
       "      <td>0.000000</td>\n",
       "      <td>1.000000</td>\n",
       "      <td>0.000312</td>\n",
       "      <td>0.000000</td>\n",
       "      <td>0.017674</td>\n",
       "      <td>89614</td>\n",
       "      <td>89614</td>\n",
       "    </tr>\n",
       "  </tbody>\n",
       "</table>\n",
       "<p>210 rows × 9 columns</p>\n",
       "</div>"
      ],
      "text/plain": [
       "         Date                               Band        Min          Max  \\\n",
       "0    20131101             DNB_BRDF_Corrected_NTL   0.000019    56.098885   \n",
       "1    20131101               DNB_Lunar_Irradiance   0.500000     0.500000   \n",
       "2    20131101  Gap_Filled_DNB_BRDF_Corrected_NTL   0.000019    62.730175   \n",
       "3    20131101      Latest_High_Quality_Retrieval   0.000000    26.000000   \n",
       "4    20131101             Mandatory_Quality_Flag   0.000000     1.000000   \n",
       "..        ...                                ...        ...          ...   \n",
       "205  20131130  Gap_Filled_DNB_BRDF_Corrected_NTL   0.000025    27.793741   \n",
       "206  20131130      Latest_High_Quality_Retrieval   0.000000    29.000000   \n",
       "207  20131130             Mandatory_Quality_Flag   0.000000     1.000000   \n",
       "208  20131130                      QF_Cloud_Mask  34.000000  2298.000000   \n",
       "209  20131130                          Snow_Flag   0.000000     1.000000   \n",
       "\n",
       "           Mean     Median         Std  Valid Pixels  Total Pixels  \n",
       "0      0.324104   0.226140    0.955966         61107         89614  \n",
       "1      0.500000   0.500000    0.000000         89614         89614  \n",
       "2      0.282541   0.173741    0.927460         89614         89614  \n",
       "3      0.467838   0.000000    1.358954         89610         89614  \n",
       "4      0.002815   0.000000    0.052979         61107         89614  \n",
       "..          ...        ...         ...           ...           ...  \n",
       "205    0.165498   0.139296    0.333716         89614         89614  \n",
       "206    0.558379   0.000000    1.423635         89613         89614  \n",
       "207    0.000101   0.000000    0.010060         69154         89614  \n",
       "208  133.073944  50.000000  315.425629         89614         89614  \n",
       "209    0.000312   0.000000    0.017674         89614         89614  \n",
       "\n",
       "[210 rows x 9 columns]"
      ]
     },
     "execution_count": 52,
     "metadata": {},
     "output_type": "execute_result"
    }
   ],
   "source": [
    "df_stats"
   ]
  },
  {
   "cell_type": "code",
   "execution_count": null,
   "id": "ddba8658",
   "metadata": {},
   "outputs": [],
   "source": [
    "\n",
    "# Filter for DNB and Gap Filled\n",
    "dnb = df_stats[df_stats['Band'] == 'DNB_BRDF_Corrected_NTL'].copy()\n",
    "gap = df_stats[df_stats['Band'] == 'Gap_Filled_DNB_BRDF_Corrected_NTL'].copy()\n",
    "\n",
    "# # Compute valid ratio (avoid divide-by-zero)\n",
    "dnb['Valid_Ratio'] = (dnb['Valid Pixels'] / dnb['Total Pixels']) * 100\n",
    "gap['Valid_Ratio'] = (gap['Valid Pixels'] / gap['Total Pixels']) * 100\n"
   ]
  },
  {
   "cell_type": "code",
   "execution_count": 133,
   "id": "e7b0cf2a",
   "metadata": {},
   "outputs": [
    {
     "data": {
      "application/vnd.plotly.v1+json": {
       "config": {
        "plotlyServerURL": "https://plot.ly"
       },
       "data": [
        {
         "marker": {
          "color": "green"
         },
         "name": "DNB Valid %",
         "opacity": 0.1,
         "showlegend": false,
         "type": "bar",
         "width": 86400000,
         "x": [
          "2013-11-01T00:00:00.000000000",
          "2013-11-02T00:00:00.000000000",
          "2013-11-03T00:00:00.000000000",
          "2013-11-04T00:00:00.000000000",
          "2013-11-05T00:00:00.000000000",
          "2013-11-06T00:00:00.000000000",
          "2013-11-07T00:00:00.000000000",
          "2013-11-08T00:00:00.000000000",
          "2013-11-09T00:00:00.000000000",
          "2013-11-10T00:00:00.000000000",
          "2013-11-11T00:00:00.000000000",
          "2013-11-12T00:00:00.000000000",
          "2013-11-13T00:00:00.000000000",
          "2013-11-14T00:00:00.000000000",
          "2013-11-15T00:00:00.000000000",
          "2013-11-16T00:00:00.000000000",
          "2013-11-17T00:00:00.000000000",
          "2013-11-18T00:00:00.000000000",
          "2013-11-19T00:00:00.000000000",
          "2013-11-20T00:00:00.000000000",
          "2013-11-21T00:00:00.000000000",
          "2013-11-22T00:00:00.000000000",
          "2013-11-23T00:00:00.000000000",
          "2013-11-24T00:00:00.000000000",
          "2013-11-25T00:00:00.000000000",
          "2013-11-26T00:00:00.000000000",
          "2013-11-27T00:00:00.000000000",
          "2013-11-28T00:00:00.000000000",
          "2013-11-29T00:00:00.000000000",
          "2013-11-30T00:00:00.000000000"
         ],
         "y": {
          "bdata": "tPUllBoMUUDEH3hp/GtQQAAAAAAAAAAA/Dc/QXyUN0Asa/bK5BU4QNhD8nsuCPg/AAAAAAAAAAAAAAAAAAAAAA9k8dp50EdAsUckvgCSU0BAUTUUmTEhQAJuZkiAnUNAfwgHB75MWEDwBUfH96hSQJh4y0V401BA+vHwnPWVPUB6rTM9mEZRQNgQpIxok1BAAAAAAAAA+H9cAd5RAd/4P/ZxuoHC3AdAAAAAAAAAAADnVGzZnxr0P9zI9DxVP1RALIEZ8Gh3SUBLFq62liNMQC+9GLocxDlA+Mhfpdm+7D9fMVJCGMZNQMpg1bvMSlNA",
          "dtype": "f8"
         },
         "yaxis": "y2"
        },
        {
         "error_y": {
          "array": {
           "bdata": "AAAAIEWX7j8AAAAg7SzrPwAAAAAAAPh/AAAAAHC+yz8AAADAYkL1PwAAAMB0AtA/AAAAAAAA+H8AAAAAAAD4fwAAAKCf/cA/AAAA4NCKuz8AAABgNFy8PwAAAEDfuO8/AAAAQH700T8AAAAA2FjoPwAAAKB28fY/AAAAAM52DUAAAAAAKZENQAAAAMD+iQxAAAAAAAAA+H8AAADgqXIDQAAAAIB8gvU/AAAAAAAA+H8AAAAgkqDePwAAAKCaH9w/AAAAAIN9yz8AAAAg+6vFPwAAAOA6wsk/AAAAYAJMyD8AAACA7g7XPwAAACB4B9E/",
           "dtype": "f8"
          },
          "arrayminus": {
           "bdata": "AAAAgB6+1D8AAABAi9XXPwAAAAAAAPh/AAAAgA1Sxj8AAACACq3FPwAAAMB0AtA/AAAAAAAA+H8AAAAAAAD4fwAAAKCf/cA/AAAA4NCKuz8AAABgNFy8PwAAAIAPnN4/AAAAYLQqrj8AAADgriLLPwAAAOC0hdw/AAAA4PwsAUAAAAAAy+b3PwAAAACWaP4/AAAAAAAA+H8AAABAe2/1PwAAACCWZNw/AAAAAAAA+H8AAADgMm/XPwAAAGDhm88/AAAAgCoywz8AAAAg+6vFPwAAAKDzI8Y/AAAAYAJMyD8AAABAYL/RPwAAAMDNIcY/",
           "dtype": "f8"
          },
          "color": "rgba(0,0,255,0.3)",
          "thickness": 1,
          "type": "data",
          "visible": true,
          "width": 4
         },
         "line": {
          "color": "blue"
         },
         "mode": "lines+markers",
         "name": "DNB Mean",
         "type": "scatter",
         "x": [
          "2013-11-01T00:00:00.000000000",
          "2013-11-02T00:00:00.000000000",
          "2013-11-03T00:00:00.000000000",
          "2013-11-04T00:00:00.000000000",
          "2013-11-05T00:00:00.000000000",
          "2013-11-06T00:00:00.000000000",
          "2013-11-07T00:00:00.000000000",
          "2013-11-08T00:00:00.000000000",
          "2013-11-09T00:00:00.000000000",
          "2013-11-10T00:00:00.000000000",
          "2013-11-11T00:00:00.000000000",
          "2013-11-12T00:00:00.000000000",
          "2013-11-13T00:00:00.000000000",
          "2013-11-14T00:00:00.000000000",
          "2013-11-15T00:00:00.000000000",
          "2013-11-16T00:00:00.000000000",
          "2013-11-17T00:00:00.000000000",
          "2013-11-18T00:00:00.000000000",
          "2013-11-19T00:00:00.000000000",
          "2013-11-20T00:00:00.000000000",
          "2013-11-21T00:00:00.000000000",
          "2013-11-22T00:00:00.000000000",
          "2013-11-23T00:00:00.000000000",
          "2013-11-24T00:00:00.000000000",
          "2013-11-25T00:00:00.000000000",
          "2013-11-26T00:00:00.000000000",
          "2013-11-27T00:00:00.000000000",
          "2013-11-28T00:00:00.000000000",
          "2013-11-29T00:00:00.000000000",
          "2013-11-30T00:00:00.000000000"
         ],
         "y": {
          "bdata": "AAAAgB6+1D8AAABAi9XXPwAAAAAAAPh/AAAAgA1Sxj8AAACACq3FPwAAAIByw9A/AAAAAAAA+H8AAAAAAAD4fwAAAMBr6ME/AAAAwM8/wT8AAABg/lvNPwAAAIAPnN4/AAAAYLQqrj8AAADgriLLPwAAAOC0hdw/AAAA4PwsAUAAAAAAy+b3PwAAAACWaP4/AAAAAAAA+H8AAABAe2/1PwAAACCWZNw/AAAAAAAA+H8AAADgMm/XPwAAAGDhm88/AAAAgCoywz8AAACAgWLIPwAAAKDzI8Y/AAAAwLEuzz8AAABAYL/RPwAAAMDNIcY/",
          "dtype": "f8"
         }
        },
        {
         "error_y": {
          "array": {
           "bdata": "AAAAwL+t7T8AAACAH1vtPwAAAIAI0+k/AAAAwHNG6T8AAADgaE/uPwAAAOCgz+k/AAAAYP/P6T8AAACg/8/pPwAAAMDUB+I/AAAAYEjf0D8AAACg8zHcPwAAAKDPrt4/AAAAYE8K3D8AAAAADBndPwAAAGCGYt0/AAAAwGUQ3j8AAABA0njgPwAAAKC9iN8/AAAAAAAA+H8AAABg5UTdPwAAAMBS+9w/AAAAYLEb3T8AAADAhhLdPwAAAEArU+A/AAAAwCyc3T8AAACgsxfdPwAAACA3i90/AAAAoClB3T8AAADg/pbYPwAAAECZW9U/",
           "dtype": "f8"
          },
          "arrayminus": {
           "bdata": "AAAAACYV0j8AAABAhOzUPwAAAMD0J8g/AAAAoI2dyD8AAABA9vbHPwAAACAdksc/AAAAoMlQxz8AAADAv1DHPwAAAAAL58M/AAAAwEj2wT8AAACgNe3CPwAAAOC0J8Y/AAAA4OCkrz8AAADgwtS8PwAAACCdq7w/AAAAgPpJwj8AAADAVqa+PwAAAMDFvcE/AAAAAAAA+H8AAACAMvDBPwAAAAAJksE/AAAA4B2rwT8AAABA5PDBPwAAAMCYP8k/AAAAQNcqxD8AAADgHCTHPwAAAEDZ4cM/AAAAwHKwwT8AAAAgyGrLPwAAAAAIL8U/",
           "dtype": "f8"
          },
          "color": "rgba(255,0,0,0.3)",
          "thickness": 1,
          "type": "data",
          "visible": true,
          "width": 4
         },
         "line": {
          "color": "red"
         },
         "mode": "lines+markers",
         "name": "Gap Filled Mean",
         "type": "scatter",
         "x": [
          "2013-11-01T00:00:00.000000000",
          "2013-11-02T00:00:00.000000000",
          "2013-11-03T00:00:00.000000000",
          "2013-11-04T00:00:00.000000000",
          "2013-11-05T00:00:00.000000000",
          "2013-11-06T00:00:00.000000000",
          "2013-11-07T00:00:00.000000000",
          "2013-11-08T00:00:00.000000000",
          "2013-11-09T00:00:00.000000000",
          "2013-11-10T00:00:00.000000000",
          "2013-11-11T00:00:00.000000000",
          "2013-11-12T00:00:00.000000000",
          "2013-11-13T00:00:00.000000000",
          "2013-11-14T00:00:00.000000000",
          "2013-11-15T00:00:00.000000000",
          "2013-11-16T00:00:00.000000000",
          "2013-11-17T00:00:00.000000000",
          "2013-11-18T00:00:00.000000000",
          "2013-11-19T00:00:00.000000000",
          "2013-11-20T00:00:00.000000000",
          "2013-11-21T00:00:00.000000000",
          "2013-11-22T00:00:00.000000000",
          "2013-11-23T00:00:00.000000000",
          "2013-11-24T00:00:00.000000000",
          "2013-11-25T00:00:00.000000000",
          "2013-11-26T00:00:00.000000000",
          "2013-11-27T00:00:00.000000000",
          "2013-11-28T00:00:00.000000000",
          "2013-11-29T00:00:00.000000000",
          "2013-11-30T00:00:00.000000000"
         ],
         "y": {
          "bdata": "AAAAACYV0j8AAABAhOzUPwAAAMD0J8g/AAAAoI2dyD8AAABA9vbHPwAAACAdksc/AAAAoMlQxz8AAADAv1DHPwAAAAAL58M/AAAAwEj2wT8AAACgNe3CPwAAAOC0J8Y/AAAA4OCkrz8AAADgwtS8PwAAACCdq7w/AAAAgPpJwj8AAADAVqa+PwAAAMDFvcE/AAAAAAAA+H8AAACAMvDBPwAAAAAJksE/AAAA4B2rwT8AAABA5PDBPwAAAMCYP8k/AAAAQNcqxD8AAADgHCTHPwAAAEDZ4cM/AAAAwHKwwT8AAAAgyGrLPwAAAAAIL8U/",
          "dtype": "f8"
         }
        }
       ],
       "layout": {
        "annotations": [
         {
          "bgcolor": "white",
          "bordercolor": "blue",
          "borderpad": 2,
          "borderwidth": 1,
          "font": {
           "color": "blue"
          },
          "showarrow": false,
          "text": "Haiyan Landfall",
          "x": "2013-11-08T00:00:00",
          "xanchor": "left",
          "y": 1,
          "yref": "paper"
         }
        ],
        "barmode": "overlay",
        "height": 600,
        "legend": {
         "x": 0.01,
         "y": 1.05
        },
        "shapes": [
         {
          "line": {
           "color": "blue",
           "dash": "dash",
           "width": 1.5
          },
          "type": "line",
          "x0": "2013-11-08T00:00:00",
          "x1": "2013-11-08T00:00:00",
          "xref": "x",
          "y0": 0,
          "y1": 1,
          "yref": "y domain"
         }
        ],
        "template": {
         "data": {
          "bar": [
           {
            "error_x": {
             "color": "#2a3f5f"
            },
            "error_y": {
             "color": "#2a3f5f"
            },
            "marker": {
             "line": {
              "color": "white",
              "width": 0.5
             },
             "pattern": {
              "fillmode": "overlay",
              "size": 10,
              "solidity": 0.2
             }
            },
            "type": "bar"
           }
          ],
          "barpolar": [
           {
            "marker": {
             "line": {
              "color": "white",
              "width": 0.5
             },
             "pattern": {
              "fillmode": "overlay",
              "size": 10,
              "solidity": 0.2
             }
            },
            "type": "barpolar"
           }
          ],
          "carpet": [
           {
            "aaxis": {
             "endlinecolor": "#2a3f5f",
             "gridcolor": "#C8D4E3",
             "linecolor": "#C8D4E3",
             "minorgridcolor": "#C8D4E3",
             "startlinecolor": "#2a3f5f"
            },
            "baxis": {
             "endlinecolor": "#2a3f5f",
             "gridcolor": "#C8D4E3",
             "linecolor": "#C8D4E3",
             "minorgridcolor": "#C8D4E3",
             "startlinecolor": "#2a3f5f"
            },
            "type": "carpet"
           }
          ],
          "choropleth": [
           {
            "colorbar": {
             "outlinewidth": 0,
             "ticks": ""
            },
            "type": "choropleth"
           }
          ],
          "contour": [
           {
            "colorbar": {
             "outlinewidth": 0,
             "ticks": ""
            },
            "colorscale": [
             [
              0,
              "#0d0887"
             ],
             [
              0.1111111111111111,
              "#46039f"
             ],
             [
              0.2222222222222222,
              "#7201a8"
             ],
             [
              0.3333333333333333,
              "#9c179e"
             ],
             [
              0.4444444444444444,
              "#bd3786"
             ],
             [
              0.5555555555555556,
              "#d8576b"
             ],
             [
              0.6666666666666666,
              "#ed7953"
             ],
             [
              0.7777777777777778,
              "#fb9f3a"
             ],
             [
              0.8888888888888888,
              "#fdca26"
             ],
             [
              1,
              "#f0f921"
             ]
            ],
            "type": "contour"
           }
          ],
          "contourcarpet": [
           {
            "colorbar": {
             "outlinewidth": 0,
             "ticks": ""
            },
            "type": "contourcarpet"
           }
          ],
          "heatmap": [
           {
            "colorbar": {
             "outlinewidth": 0,
             "ticks": ""
            },
            "colorscale": [
             [
              0,
              "#0d0887"
             ],
             [
              0.1111111111111111,
              "#46039f"
             ],
             [
              0.2222222222222222,
              "#7201a8"
             ],
             [
              0.3333333333333333,
              "#9c179e"
             ],
             [
              0.4444444444444444,
              "#bd3786"
             ],
             [
              0.5555555555555556,
              "#d8576b"
             ],
             [
              0.6666666666666666,
              "#ed7953"
             ],
             [
              0.7777777777777778,
              "#fb9f3a"
             ],
             [
              0.8888888888888888,
              "#fdca26"
             ],
             [
              1,
              "#f0f921"
             ]
            ],
            "type": "heatmap"
           }
          ],
          "histogram": [
           {
            "marker": {
             "pattern": {
              "fillmode": "overlay",
              "size": 10,
              "solidity": 0.2
             }
            },
            "type": "histogram"
           }
          ],
          "histogram2d": [
           {
            "colorbar": {
             "outlinewidth": 0,
             "ticks": ""
            },
            "colorscale": [
             [
              0,
              "#0d0887"
             ],
             [
              0.1111111111111111,
              "#46039f"
             ],
             [
              0.2222222222222222,
              "#7201a8"
             ],
             [
              0.3333333333333333,
              "#9c179e"
             ],
             [
              0.4444444444444444,
              "#bd3786"
             ],
             [
              0.5555555555555556,
              "#d8576b"
             ],
             [
              0.6666666666666666,
              "#ed7953"
             ],
             [
              0.7777777777777778,
              "#fb9f3a"
             ],
             [
              0.8888888888888888,
              "#fdca26"
             ],
             [
              1,
              "#f0f921"
             ]
            ],
            "type": "histogram2d"
           }
          ],
          "histogram2dcontour": [
           {
            "colorbar": {
             "outlinewidth": 0,
             "ticks": ""
            },
            "colorscale": [
             [
              0,
              "#0d0887"
             ],
             [
              0.1111111111111111,
              "#46039f"
             ],
             [
              0.2222222222222222,
              "#7201a8"
             ],
             [
              0.3333333333333333,
              "#9c179e"
             ],
             [
              0.4444444444444444,
              "#bd3786"
             ],
             [
              0.5555555555555556,
              "#d8576b"
             ],
             [
              0.6666666666666666,
              "#ed7953"
             ],
             [
              0.7777777777777778,
              "#fb9f3a"
             ],
             [
              0.8888888888888888,
              "#fdca26"
             ],
             [
              1,
              "#f0f921"
             ]
            ],
            "type": "histogram2dcontour"
           }
          ],
          "mesh3d": [
           {
            "colorbar": {
             "outlinewidth": 0,
             "ticks": ""
            },
            "type": "mesh3d"
           }
          ],
          "parcoords": [
           {
            "line": {
             "colorbar": {
              "outlinewidth": 0,
              "ticks": ""
             }
            },
            "type": "parcoords"
           }
          ],
          "pie": [
           {
            "automargin": true,
            "type": "pie"
           }
          ],
          "scatter": [
           {
            "fillpattern": {
             "fillmode": "overlay",
             "size": 10,
             "solidity": 0.2
            },
            "type": "scatter"
           }
          ],
          "scatter3d": [
           {
            "line": {
             "colorbar": {
              "outlinewidth": 0,
              "ticks": ""
             }
            },
            "marker": {
             "colorbar": {
              "outlinewidth": 0,
              "ticks": ""
             }
            },
            "type": "scatter3d"
           }
          ],
          "scattercarpet": [
           {
            "marker": {
             "colorbar": {
              "outlinewidth": 0,
              "ticks": ""
             }
            },
            "type": "scattercarpet"
           }
          ],
          "scattergeo": [
           {
            "marker": {
             "colorbar": {
              "outlinewidth": 0,
              "ticks": ""
             }
            },
            "type": "scattergeo"
           }
          ],
          "scattergl": [
           {
            "marker": {
             "colorbar": {
              "outlinewidth": 0,
              "ticks": ""
             }
            },
            "type": "scattergl"
           }
          ],
          "scattermap": [
           {
            "marker": {
             "colorbar": {
              "outlinewidth": 0,
              "ticks": ""
             }
            },
            "type": "scattermap"
           }
          ],
          "scattermapbox": [
           {
            "marker": {
             "colorbar": {
              "outlinewidth": 0,
              "ticks": ""
             }
            },
            "type": "scattermapbox"
           }
          ],
          "scatterpolar": [
           {
            "marker": {
             "colorbar": {
              "outlinewidth": 0,
              "ticks": ""
             }
            },
            "type": "scatterpolar"
           }
          ],
          "scatterpolargl": [
           {
            "marker": {
             "colorbar": {
              "outlinewidth": 0,
              "ticks": ""
             }
            },
            "type": "scatterpolargl"
           }
          ],
          "scatterternary": [
           {
            "marker": {
             "colorbar": {
              "outlinewidth": 0,
              "ticks": ""
             }
            },
            "type": "scatterternary"
           }
          ],
          "surface": [
           {
            "colorbar": {
             "outlinewidth": 0,
             "ticks": ""
            },
            "colorscale": [
             [
              0,
              "#0d0887"
             ],
             [
              0.1111111111111111,
              "#46039f"
             ],
             [
              0.2222222222222222,
              "#7201a8"
             ],
             [
              0.3333333333333333,
              "#9c179e"
             ],
             [
              0.4444444444444444,
              "#bd3786"
             ],
             [
              0.5555555555555556,
              "#d8576b"
             ],
             [
              0.6666666666666666,
              "#ed7953"
             ],
             [
              0.7777777777777778,
              "#fb9f3a"
             ],
             [
              0.8888888888888888,
              "#fdca26"
             ],
             [
              1,
              "#f0f921"
             ]
            ],
            "type": "surface"
           }
          ],
          "table": [
           {
            "cells": {
             "fill": {
              "color": "#EBF0F8"
             },
             "line": {
              "color": "white"
             }
            },
            "header": {
             "fill": {
              "color": "#C8D4E3"
             },
             "line": {
              "color": "white"
             }
            },
            "type": "table"
           }
          ]
         },
         "layout": {
          "annotationdefaults": {
           "arrowcolor": "#2a3f5f",
           "arrowhead": 0,
           "arrowwidth": 1
          },
          "autotypenumbers": "strict",
          "coloraxis": {
           "colorbar": {
            "outlinewidth": 0,
            "ticks": ""
           }
          },
          "colorscale": {
           "diverging": [
            [
             0,
             "#8e0152"
            ],
            [
             0.1,
             "#c51b7d"
            ],
            [
             0.2,
             "#de77ae"
            ],
            [
             0.3,
             "#f1b6da"
            ],
            [
             0.4,
             "#fde0ef"
            ],
            [
             0.5,
             "#f7f7f7"
            ],
            [
             0.6,
             "#e6f5d0"
            ],
            [
             0.7,
             "#b8e186"
            ],
            [
             0.8,
             "#7fbc41"
            ],
            [
             0.9,
             "#4d9221"
            ],
            [
             1,
             "#276419"
            ]
           ],
           "sequential": [
            [
             0,
             "#0d0887"
            ],
            [
             0.1111111111111111,
             "#46039f"
            ],
            [
             0.2222222222222222,
             "#7201a8"
            ],
            [
             0.3333333333333333,
             "#9c179e"
            ],
            [
             0.4444444444444444,
             "#bd3786"
            ],
            [
             0.5555555555555556,
             "#d8576b"
            ],
            [
             0.6666666666666666,
             "#ed7953"
            ],
            [
             0.7777777777777778,
             "#fb9f3a"
            ],
            [
             0.8888888888888888,
             "#fdca26"
            ],
            [
             1,
             "#f0f921"
            ]
           ],
           "sequentialminus": [
            [
             0,
             "#0d0887"
            ],
            [
             0.1111111111111111,
             "#46039f"
            ],
            [
             0.2222222222222222,
             "#7201a8"
            ],
            [
             0.3333333333333333,
             "#9c179e"
            ],
            [
             0.4444444444444444,
             "#bd3786"
            ],
            [
             0.5555555555555556,
             "#d8576b"
            ],
            [
             0.6666666666666666,
             "#ed7953"
            ],
            [
             0.7777777777777778,
             "#fb9f3a"
            ],
            [
             0.8888888888888888,
             "#fdca26"
            ],
            [
             1,
             "#f0f921"
            ]
           ]
          },
          "colorway": [
           "#636efa",
           "#EF553B",
           "#00cc96",
           "#ab63fa",
           "#FFA15A",
           "#19d3f3",
           "#FF6692",
           "#B6E880",
           "#FF97FF",
           "#FECB52"
          ],
          "font": {
           "color": "#2a3f5f"
          },
          "geo": {
           "bgcolor": "white",
           "lakecolor": "white",
           "landcolor": "white",
           "showlakes": true,
           "showland": true,
           "subunitcolor": "#C8D4E3"
          },
          "hoverlabel": {
           "align": "left"
          },
          "hovermode": "closest",
          "mapbox": {
           "style": "light"
          },
          "paper_bgcolor": "white",
          "plot_bgcolor": "white",
          "polar": {
           "angularaxis": {
            "gridcolor": "#EBF0F8",
            "linecolor": "#EBF0F8",
            "ticks": ""
           },
           "bgcolor": "white",
           "radialaxis": {
            "gridcolor": "#EBF0F8",
            "linecolor": "#EBF0F8",
            "ticks": ""
           }
          },
          "scene": {
           "xaxis": {
            "backgroundcolor": "white",
            "gridcolor": "#DFE8F3",
            "gridwidth": 2,
            "linecolor": "#EBF0F8",
            "showbackground": true,
            "ticks": "",
            "zerolinecolor": "#EBF0F8"
           },
           "yaxis": {
            "backgroundcolor": "white",
            "gridcolor": "#DFE8F3",
            "gridwidth": 2,
            "linecolor": "#EBF0F8",
            "showbackground": true,
            "ticks": "",
            "zerolinecolor": "#EBF0F8"
           },
           "zaxis": {
            "backgroundcolor": "white",
            "gridcolor": "#DFE8F3",
            "gridwidth": 2,
            "linecolor": "#EBF0F8",
            "showbackground": true,
            "ticks": "",
            "zerolinecolor": "#EBF0F8"
           }
          },
          "shapedefaults": {
           "line": {
            "color": "#2a3f5f"
           }
          },
          "ternary": {
           "aaxis": {
            "gridcolor": "#DFE8F3",
            "linecolor": "#A2B1C6",
            "ticks": ""
           },
           "baxis": {
            "gridcolor": "#DFE8F3",
            "linecolor": "#A2B1C6",
            "ticks": ""
           },
           "bgcolor": "white",
           "caxis": {
            "gridcolor": "#DFE8F3",
            "linecolor": "#A2B1C6",
            "ticks": ""
           }
          },
          "title": {
           "x": 0.05
          },
          "xaxis": {
           "automargin": true,
           "gridcolor": "#EBF0F8",
           "linecolor": "#EBF0F8",
           "ticks": "",
           "title": {
            "standoff": 15
           },
           "zerolinecolor": "#EBF0F8",
           "zerolinewidth": 2
          },
          "yaxis": {
           "automargin": true,
           "gridcolor": "#EBF0F8",
           "linecolor": "#EBF0F8",
           "ticks": "",
           "title": {
            "standoff": 15
           },
           "zerolinecolor": "#EBF0F8",
           "zerolinewidth": 2
          }
         }
        },
        "title": {
         "text": "NTL Radiance ± Std Dev with Valid Pixel Background"
        },
        "width": 1200,
        "xaxis": {
         "title": {
          "text": "Date"
         }
        },
        "yaxis": {
         "title": {
          "text": "Radiance (nW·cm⁻²·sr⁻¹)"
         },
         "type": "log"
        },
        "yaxis2": {
         "gridcolor": "green",
         "overlaying": "y",
         "range": [
          0,
          100
         ],
         "showgrid": false,
         "side": "right",
         "tickcolor": "green",
         "tickfont": {
          "color": "green"
         },
         "ticklen": 5,
         "title": {
          "text": "Valid Pixel %"
         }
        }
       }
      }
     },
     "metadata": {},
     "output_type": "display_data"
    }
   ],
   "source": [
    "# --- Plot Setup ---\n",
    "fig = go.Figure()\n",
    "\n",
    "# --- Background Bars: Valid Pixel Ratio ---\n",
    "fig.add_trace(go.Bar(\n",
    "    x=dnb['Date'],\n",
    "    y=dnb['Valid_Ratio'],\n",
    "    name='DNB Valid %',\n",
    "    yaxis='y2',\n",
    "    marker_color='green',\n",
    "    opacity=0.1,\n",
    "    width=86400000,  # ~1 day in ms\n",
    "    showlegend=False\n",
    "))\n",
    "\n",
    "dnb['ErrLow'] = np.minimum(dnb['Std'], dnb['Mean'])\n",
    "\n",
    "\n",
    "# --- DNB Mean with Transparent Error Bars ---\n",
    "fig.add_trace(go.Scatter(\n",
    "    x=dnb['Date'],\n",
    "    y=dnb['Mean'],\n",
    "    mode='lines+markers',\n",
    "    name='DNB Mean',\n",
    "    line=dict(color='blue'),\n",
    "    error_y=dict(\n",
    "        type='data',\n",
    "        array=dnb['Std'],\n",
    "        arrayminus=dnb['ErrLow'],  # custom lower error\n",
    "        visible=True,\n",
    "        color='rgba(0,0,255,0.3)',\n",
    "        thickness=1,\n",
    "        width=4\n",
    "    )\n",
    "))\n",
    "\n",
    "gap['ErrLow'] = np.minimum(gap['Std'], gap['Mean'])\n",
    "\n",
    "# --- Gap Filled Mean with Transparent Error Bars ---\n",
    "fig.add_trace(go.Scatter(\n",
    "    x=gap['Date'],\n",
    "    y=gap['Mean'],\n",
    "    mode='lines+markers',\n",
    "    name='Gap Filled Mean',\n",
    "    line=dict(color='red'),\n",
    "    error_y=dict(\n",
    "        type='data',\n",
    "        array=gap['Std'],\n",
    "        arrayminus=gap['ErrLow'],\n",
    "        visible=True,\n",
    "        color='rgba(255,0,0,0.3)',\n",
    "        thickness=1,\n",
    "        width=4\n",
    "    )\n",
    "))\n",
    "\n",
    "storm_events = [\n",
    "    {\"date\": \"20131108\", \"name\": \"Haiyan Landfall\"}\n",
    "]\n",
    "\n",
    "for event in storm_events:\n",
    "    event_date = pd.to_datetime(event[\"date\"])\n",
    "    fig.add_vline(\n",
    "        x=event_date,\n",
    "        line_width=1.5,\n",
    "        line_dash=\"dash\",\n",
    "        line_color=\"blue\"\n",
    "    )\n",
    "    fig.add_annotation(\n",
    "        x=event_date,\n",
    "        y=1,\n",
    "        yref='paper',\n",
    "        text=event[\"name\"],\n",
    "        showarrow=False,\n",
    "        font=dict(color=\"blue\"),\n",
    "        bgcolor=\"white\",\n",
    "        bordercolor=\"blue\",\n",
    "        borderwidth=1,\n",
    "        borderpad=2,\n",
    "        xanchor=\"left\"\n",
    "    )\n",
    "\n",
    "# --- Layout ---\n",
    "fig.update_layout(\n",
    "    title='NTL Radiance ± Std Dev with Valid Pixel Background',\n",
    "    xaxis_title='Date',\n",
    "    yaxis=dict(title='Radiance (nW·cm⁻²·sr⁻¹)', type='log'),\n",
    "    yaxis2=dict(\n",
    "        title='Valid Pixel %',\n",
    "        overlaying='y',\n",
    "        side='right',\n",
    "        range=[0, 100],\n",
    "        showgrid=False,\n",
    "        tickfont=dict(color='green'),\n",
    "        tickcolor='green',\n",
    "        ticklen=5,\n",
    "        gridcolor='green',\n",
    "    ),\n",
    "    barmode='overlay',\n",
    "    template='plotly_white',\n",
    "    height=600,\n",
    "    width=1200,\n",
    "    legend=dict(x=0.01, y=1.05)\n",
    ")\n",
    "\n",
    "\n",
    "fig.write_html(\"../HTML Files/Radiance and Pixel Validity.html\",\n",
    "            include_plotlyjs='cdn',\n",
    "            full_html=False)\n",
    "\n",
    "fig.show()"
   ]
  },
  {
   "cell_type": "code",
   "execution_count": 132,
   "id": "99044436",
   "metadata": {},
   "outputs": [
    {
     "data": {
      "application/vnd.plotly.v1+json": {
       "config": {
        "plotlyServerURL": "https://plot.ly"
       },
       "data": [
        {
         "colorbar": {
          "ticksuffix": "%",
          "title": {
           "text": "Pixel %"
          }
         },
         "colorscale": [
          [
           0,
           "rgb(255,255,217)"
          ],
          [
           0.125,
           "rgb(237,248,177)"
          ],
          [
           0.25,
           "rgb(199,233,180)"
          ],
          [
           0.375,
           "rgb(127,205,187)"
          ],
          [
           0.5,
           "rgb(65,182,196)"
          ],
          [
           0.625,
           "rgb(29,145,192)"
          ],
          [
           0.75,
           "rgb(34,94,168)"
          ],
          [
           0.875,
           "rgb(37,52,148)"
          ],
          [
           1,
           "rgb(8,29,88)"
          ]
         ],
         "showscale": true,
         "type": "heatmap",
         "x": [
          "2013-11-01T00:00:00",
          "2013-11-02T00:00:00",
          "2013-11-03T00:00:00",
          "2013-11-04T00:00:00",
          "2013-11-05T00:00:00",
          "2013-11-06T00:00:00",
          "2013-11-07T00:00:00",
          "2013-11-08T00:00:00",
          "2013-11-09T00:00:00",
          "2013-11-10T00:00:00",
          "2013-11-11T00:00:00",
          "2013-11-12T00:00:00",
          "2013-11-13T00:00:00",
          "2013-11-14T00:00:00",
          "2013-11-15T00:00:00",
          "2013-11-16T00:00:00",
          "2013-11-17T00:00:00",
          "2013-11-18T00:00:00",
          "2013-11-19T00:00:00",
          "2013-11-20T00:00:00",
          "2013-11-21T00:00:00",
          "2013-11-22T00:00:00",
          "2013-11-23T00:00:00",
          "2013-11-24T00:00:00",
          "2013-11-25T00:00:00",
          "2013-11-26T00:00:00",
          "2013-11-27T00:00:00",
          "2013-11-28T00:00:00",
          "2013-11-29T00:00:00",
          "2013-11-30T00:00:00"
         ],
         "y": {
          "bdata": "AQIDBAUGBwgJCgsMDQ4PEBESExQVFhcYGRobHB0e",
          "dtype": "i1"
         },
         "z": {
          "bdata": "xaLR9PJ8WEB4sm0AY7BUQMQfeGn8a1BAnTXom1h9N0AIcT9gvrFEQFCcl+i2/jhA2EPyey4I+D8AAAAAAAD4f63DUd/nyEdAYOnHnseTVUCLtdcTWd9TQG3sDe1rmkVASfylXBhoWEDTV2xrgsNYQKK/bZFe6FZAkRZe9GsHUkCmpKKLOLFRQDYFEJTTaFRAAAAAAAAA+H+1zcR+DKNQQN3XxksHJRFA9nG6gcLcB0B87OdZOH/zPyjtjZGkpFNA/DSK7o+oVUCwgqo0kqZTQH5K3pMhXVBAmsJsPNAXOkCnBuwX89RNQP826rKrhFZAj+KWsYPadj83tGb4vXIvQHpeWIN1GDFA+9iqB67cSUAAAAAAAAD4f4ZhVWAFVTFAEnjYADR+N0DYQ/J7Lgj4PwAAAAAAAPh/AAAAAAAA+H9dzo9iO+odQG080BeIbEZAbNtt/MZstz8iJwnS6uzTP+YrJFOYjR9AVXB1YwBkNUA6jJfF2B0yQOsxaUyuQxZAAAAAAAAA+H9VNe/sbk81QFQenOXc/09A0BskMLqs+D/2cbqBwtwHQAAAAAAAAPh/1fDoG/21pT94r7itdkQvQO54nmEu5jBAVPchQci6Q0BeiBwS8skmQIIUtqWs2sI/QeuYNQ1Iyz+lG99aaUhiP+GMYqkHZS9Az49iO+qNJ0BYH16qE4JDQAAAAAAAAPh/hmFVYAVVMUASeNgANH43QCInCdLq7NM/AAAAAAAA+H8AAAAAAAD4f1qmnGoEbRFANFSi3OHM9D8ExvLckCOZP7hQsOwrSMg//ZtWrymAGECCKMJ3KaofQJu24WIzsh5AAAAAAAAA+H+hUu651+4MQKT26SYzATRAIutSeUvqT0BCrHb7laP4P9tX2aHotbc/AAAAAAAA+H/tjKozq7WdP8aiGmYHRyhAgF9jucDkMEBLj7hnuoIxQI5UB9vAcwRAZzVbPGTI0j+P4paxg9qWP6Ub31ppSGI/otWQtuJJKEBt1Bzm9PAiQAjRugqGDUNAAAAAAAAA+H+GYVVgBVUxQH8FUrTRYCZApRvfWmlIsj8AAAAAAAD4fwAAAAAAAPh/qgAUVUOR2T+Yy0LDgJHTP2ANjfDvbJM/N59ztUf/wT+aIujml3MIQMHPI1y3hQxAAAAAAAAA+H+4SkZHU3AUQLLx9+0LaAtA/ll/IsbvM0C8IZCjdHdPQKoAFFVDkck/p35YyTHanj8AAAAAAAD4f+2MqjOrtZ0/CZ5sG8AYKEDO0iA5R8IcQMkmpNMLRhRAKrJQjCfazz9o9jgC7SPQP4/ilrGD2pY/pRvfWmlIYj8BqAVOGA4jQNASBTj16CJACNG6CoYNQ0AAAAAAAAD4f6kwrfEcmiJAVqIlU+H+C0ClG99aaUiyPwAAAAAAAPh/AAAAAAAA+H+y6b9mQEjGP8giCBAmtsE/Gv86hnaRhD94qU4InmyrP/SsQPhT8fc/AAAAAAAA+H+kketHjHECQBSaGOJ92RNAsvH37QtoC0CZuGbTEbAzQMKYOakLAS9AYA2N8O9ssz8AAAAAAAD4fwAAAAAAAPh/7YyqM6u1nT+klYcLcgEFQHy9NS5YGus/IWYrDGKRtj+P4paxg9qmP2j2OALtI9A/1fDoG/21lT+lG99aaUhiP09rzmnPByNA0BIFOPXoIkAI0boKhg1DQAAAAAAAAPh/LSg4zYfhAkDc5Wh4qxwKQH2txR/B2rA/AAAAAAAA+H8AAAAAAAD4fz0GZDsz/7M/Tzs1zfX+uT+P4paxg9p2P763oHIXSJo/AAAAAAAA+H9EZRw6U9/wP8OELdeOMQJAMT7t1DTXE0ANfFD/x+UKQLufHYl3CghAKhcG+rkfJUB4qU4InmyLPwAAAAAAAPh/AAAAAAAA+H+lG99aaUhSP1i2DHmbrOs/AAAAAAAA+H+lG99aaUiyP4/ilrGD2qY/hHcvFHVszz9gDY3w72yTP6Ub31ppSGI/T2vOac8HI0DQEgU49egiQDenqzwTHzdAAAAAAAAA+H9wIqMRRw8CQKPMcb4dhgJAYXAGX7j+fz8AAAAAAAD4fwAAAAAAAPh/WqacagRtsT/39xHRuSOlP6Ub31ppSFI/AAAAAAAA+H94qU4InmybP4FjSO66vu8/w4Qt144xAkAxPu3UNNcTQPHPQ4VFyOU/NR24KTZI9z+29zznIR4SQBr/OoZ2kYQ/AAAAAAAA+H8AAAAAAAD4fwAAAAAAAPh/ijyE8SA24j8AAAAAAAD4f6Ub31ppSLI/eKlOCJ5smz/hvskn1LXJP2ANjfDvbJM/pRvfWmlIYj9Pa85pzwcjQC7xTRrcXBVAZz9hpSIwGUAAAAAAAAD4fzOLjI+NUfI/RG1UwR7/tT8AAAAAAAD4fwAAAAAAAPh/AAAAAAAA+H/tjKozq7WNP2FwBl+4/o8/AAAAAAAA+H+lG99aaUhSP3ipTgiebJs/gWNI7rq+7z/8zNa8/CwCQGjHhtYMv+c/DK+e7o3a1T/ea8DHomPnPz0CyHdNbxFAGv86hnaRhD8AAAAAAAD4fwAAAAAAAPh/eKlOCJ5smz9WkrVESr/hPwAAAAAAAPh/J80bkk2RqD8ExvLckCOZP+G+ySfUtck/YA2N8O9skz+lG99aaUhiP8QWWXE3KAdATqkJM00I5T/TapHMBW8YQAAAAAAAAPh/CS3jYnwjuz9gDY3w72yTPwAAAAAAAPh/AAAAAAAA+H8AAAAAAAD4f4/ilrGD2nY/AAAAAAAA+H8ExvLckCOJP6Ub31ppSFI/eKlOCJ5smz+BY0juur7vP6vB8RrM7OY/o5kjz1eRxz+y6b9mQEjGP9HcAfZCCOY/TFQy8ShuEUB4qU4Inmx7PwAAAAAAAPh/FJhKAIuRsj94qU4InmyLP1aStURKv+E/AAAAAAAA+H+P4paxg9qmPwTG8tyQI5k/4b7JJ9S1yT9gDY3w72yTPwAAAAAAAPh/zsga0Iha5j8lO/D3pJrjP/Ww3Ls5gQpAAAAAAAAA+H+nfljJMdqeP4/ilrGD2oY/AAAAAAAA+H8AAAAAAAD4fwAAAAAAAPh/AAAAAAAA+H+lG99aaUhyPwTG8tyQI4k/pRvfWmlIUj+P4paxg9qWP7bO9GAakd0/NFzaY63s2T8nzRuSTZGoP2Z0fXbbbMU/0dwB9kII5j/Zxa0HQL/yP6Ub31ppSFI/AAAAAAAA+H8UmEoAi5GyP3ipTgiebIs/CS3jYnwjyz8AAAAAAAD4f4/ilrGD2qY/BMby3JAjmT/hvskn1LXJP4/ilrGD2nY/AAAAAAAA+H+Mj41RUojkP3ipTgiebMs/1rHG4YUR0z8AAAAAAAD4f2FwBl+4/o8/eKlOCJ5sez8AAAAAAAD4fwAAAAAAAPh/AAAAAAAA+H8AAAAAAAD4f6Ub31ppSHI/BMby3JAjiT+lG99aaUhSP2FwBl+4/n8/13Kkpw5t0D/XcqSnDm3AP6Ub31ppSKI/ZnR9dttsxT+H+eqfhiPKPw4xWnqfkdA/pRvfWmlIUj8AAAAAAAD4fxSYSgCLkbI/eKlOCJ5siz9gDY3w72yzPwAAAAAAAPh/j+KWsYPapj8ExvLckCOZP/f3EdG5I6U/eKlOCJ5saz8AAAAAAAD4f988DpzC/t4/DjFaep+RoD+P4paxg9qmPwAAAAAAAPh/7YyqM6u1jT8AAAAAAAD4fwAAAAAAAPh/AAAAAAAA+H8AAAAAAAD4fwAAAAAAAPh/pRvfWmlIcj8ExvLckCOJPwAAAAAAAPh/pRvfWmlIYj+bsHe9Wtq6P1wJFtnM/r0/pRvfWmlIoj+VSYc3b9q4P+G+ySfUtbk/pRvfWmlIUj8AAAAAAAD4fwAAAAAAAPh/eKlOCJ5smz+lG99aaUiCP2ANjfDvbLM/AAAAAAAA+H+P4paxg9qmPxr/OoZ2kZQ/Gv86hnaRlD94qU4InmxrPwAAAAAAAPh/1fDoG/21pT/rKTHF4iORPxr/OoZ2kYQ/AAAAAAAA+H8a/zqGdpGEPwAAAAAAAPh/AAAAAAAA+H8AAAAAAAD4fwAAAAAAAPh/AAAAAAAA+H+lG99aaUhyPxr/OoZ2kYQ/AAAAAAAA+H+lG99aaUhSPyfNG5JNkbg/XAkW2cz+vT/V8Ogb/bWVPwTG8tyQI5k/8c9DhUXI1T8AAAAAAAD4fwAAAAAAAPh/AAAAAAAA+H9hcAZfuP5/P6Ub31ppSII/YA2N8O9ssz8AAAAAAAD4fz0GZDsz/6M/pRvfWmlIgj9gDY3w72yTPwAAAAAAAPh/AAAAAAAA+H94qU4InmyLP6Ub31ppSII/pRvfWmlIgj8AAAAAAAD4f6Ub31ppSHI/AAAAAAAA+H8AAAAAAAD4fwAAAAAAAPh/AAAAAAAA+H8AAAAAAAD4f6Ub31ppSFI/YXAGX7j+fz8AAAAAAAD4fwAAAAAAAPh/J80bkk2RuD9gDY3w72yzPwTG8tyQI4k/mMtCw4CRwz+Qo3R3DDbUPwAAAAAAAPh/AAAAAAAA+H8AAAAAAAD4f2FwBl+4/n8/pRvfWmlIgj9gDY3w72yzPwAAAAAAAPh/BMby3JAjmT+lG99aaUiCP3ipTgiebIs/AAAAAAAA+H8AAAAAAAD4f4/ilrGD2nY/pRvfWmlIgj+P4paxg9p2PwAAAAAAAPh/AAAAAAAA+H+lG99aaUhyPwAAAAAAAPh/AAAAAAAA+H8AAAAAAAD4fwAAAAAAAPh/pRvfWmlIUj+lG99aaUhiPwAAAAAAAPh/AAAAAAAA+H/rKTHF4iOhP3ipTgiebJs/eKlOCJ5saz83n3O1R//BP5CjdHcMNtQ/AAAAAAAA+H8AAAAAAAD4fwAAAAAAAPh/YXAGX7j+fz+lG99aaUiCP2FwBl+4/p8/AAAAAAAA+H+lG99aaUiCP6Ub31ppSGI/AAAAAAAA+H8AAAAAAAD4fwAAAAAAAPh/pRvfWmlIcj+lG99aaUhyP6Ub31ppSFI/AAAAAAAA+H8AAAAAAAD4f6Ub31ppSHI/AAAAAAAA+H8AAAAAAAD4fwAAAAAAAPh/AAAAAAAA+H8AAAAAAAD4f6Ub31ppSGI/AAAAAAAA+H8AAAAAAAD4f+2MqjOrtY0/AAAAAAAA+H8AAAAAAAD4fzefc7VH/8E/8A5mv7xsyD8AAAAAAAD4fwAAAAAAAPh/AAAAAAAA+H9hcAZfuP5/P6Ub31ppSHI/YXAGX7j+fz8AAAAAAAD4f6Ub31ppSII/pRvfWmlIUj8AAAAAAAD4fwAAAAAAAPh/AAAAAAAA+H94qU4InmxrP6Ub31ppSGI/AAAAAAAA+H+lG99aaUhSPwAAAAAAAPh/pRvfWmlIcj8AAAAAAAD4fwAAAAAAAPh/AAAAAAAA+H8AAAAAAAD4fwAAAAAAAPh/pRvfWmlIYj8AAAAAAAD4fwAAAAAAAPh/AAAAAAAA+H8AAAAAAAD4fwAAAAAAAPh/M5v8nSSRrD+RZFI9lZHBPwAAAAAAAPh/AAAAAAAA+H8AAAAAAAD4f6Ub31ppSGI/pRvfWmlIUj94qU4Inmx7PwAAAAAAAPh/AAAAAAAA+H+lG99aaUhSPwAAAAAAAPh/AAAAAAAA+H8AAAAAAAD4f6Ub31ppSGI/AAAAAAAA+H+lG99aaUhSP6Ub31ppSFI/AAAAAAAA+H+lG99aaUhyPwAAAAAAAPh/AAAAAAAA+H8AAAAAAAD4fwAAAAAAAPh/AAAAAAAA+H+lG99aaUhiPwAAAAAAAPh/6ykxxeIjkT8AAAAAAAD4fwAAAAAAAPh/AAAAAAAA+H9WoiVT4f6rP5FkUj2VkcE/AAAAAAAA+H8AAAAAAAD4fwAAAAAAAPh/pRvfWmlIUj+lG99aaUhSP4/ilrGD2nY/AAAAAAAA+H8AAAAAAAD4f6Ub31ppSFI/AAAAAAAA+H8AAAAAAAD4fwAAAAAAAPh/AAAAAAAA+H+lG99aaUhiP6Ub31ppSFI/pRvfWmlIUj8AAAAAAAD4f6Ub31ppSGI/AAAAAAAA+H8AAAAAAAD4fwAAAAAAAPh/AAAAAAAA+H8AAAAAAAD4f6Ub31ppSGI/pRvfWmlIUj/rKTHF4iORPwAAAAAAAPh/AAAAAAAA+H8AAAAAAAD4f1aiJVPh/qs/kWRSPZWRwT8AAAAAAAD4fwAAAAAAAPh/AAAAAAAA+H+lG99aaUhSPwAAAAAAAPh/pRvfWmlIUj8AAAAAAAD4fwAAAAAAAPh/pRvfWmlIUj8AAAAAAAD4fwAAAAAAAPh/AAAAAAAA+H8AAAAAAAD4f6Ub31ppSGI/pRvfWmlIUj+lG99aaUhSPwAAAAAAAPh/AAAAAAAA+H8AAAAAAAD4fwAAAAAAAPh/AAAAAAAA+H8AAAAAAAD4fwAAAAAAAPh/AAAAAAAA+H+lG99aaUhSP+spMcXiI5E/AAAAAAAA+H8AAAAAAAD4fwAAAAAAAPh/VqIlU+H+qz+RZFI9lZHBPwAAAAAAAPh/AAAAAAAA+H8AAAAAAAD4fwAAAAAAAPh/AAAAAAAA+H8AAAAAAAD4fwAAAAAAAPh/AAAAAAAA+H+lG99aaUhSPwAAAAAAAPh/AAAAAAAA+H8AAAAAAAD4fwAAAAAAAPh/pRvfWmlIYj+lG99aaUhSPwAAAAAAAPh/AAAAAAAA+H8AAAAAAAD4fwAAAAAAAPh/AAAAAAAA+H8AAAAAAAD4fwAAAAAAAPh/AAAAAAAA+H8AAAAAAAD4f6Ub31ppSFI/BMby3JAjiT8AAAAAAAD4fwAAAAAAAPh/AAAAAAAA+H9WoiVT4f6rP4/ilrGD2rY/AAAAAAAA+H8AAAAAAAD4fwAAAAAAAPh/AAAAAAAA+H8AAAAAAAD4fwAAAAAAAPh/AAAAAAAA+H8AAAAAAAD4f6Ub31ppSFI/AAAAAAAA+H8AAAAAAAD4fwAAAAAAAPh/AAAAAAAA+H+lG99aaUhiP6Ub31ppSFI/AAAAAAAA+H8AAAAAAAD4fwAAAAAAAPh/AAAAAAAA+H8AAAAAAAD4fwAAAAAAAPh/AAAAAAAA+H8AAAAAAAD4fwAAAAAAAPh/AAAAAAAA+H8ExvLckCOJPwAAAAAAAPh/AAAAAAAA+H8AAAAAAAD4f4/ilrGD2pY/1fDoG/21lT8AAAAAAAD4fwAAAAAAAPh/AAAAAAAA+H8AAAAAAAD4fwAAAAAAAPh/AAAAAAAA+H8AAAAAAAD4fwAAAAAAAPh/AAAAAAAA+H+lG99aaUhSPwAAAAAAAPh/AAAAAAAA+H8AAAAAAAD4f6Ub31ppSGI/AAAAAAAA+H8AAAAAAAD4fwAAAAAAAPh/AAAAAAAA+H8AAAAAAAD4fwAAAAAAAPh/AAAAAAAA+H8AAAAAAAD4fwAAAAAAAPh/AAAAAAAA+H8AAAAAAAD4fwTG8tyQI4k/AAAAAAAA+H8AAAAAAAD4fwAAAAAAAPh/Gv86hnaRhD+lG99aaUiCPwAAAAAAAPh/AAAAAAAA+H8AAAAAAAD4fwAAAAAAAPh/AAAAAAAA+H8AAAAAAAD4fwAAAAAAAPh/AAAAAAAA+H8AAAAAAAD4f6Ub31ppSFI/AAAAAAAA+H8AAAAAAAD4fwAAAAAAAPh/pRvfWmlIUj8AAAAAAAD4fwAAAAAAAPh/AAAAAAAA+H8AAAAAAAD4fwAAAAAAAPh/pRvfWmlIYj8AAAAAAAD4fwAAAAAAAPh/AAAAAAAA+H8AAAAAAAD4fwAAAAAAAPh/BMby3JAjiT8AAAAAAAD4fwAAAAAAAPh/AAAAAAAA+H+lG99aaUiCP2FwBl+4/n8/AAAAAAAA+H8AAAAAAAD4fwAAAAAAAPh/AAAAAAAA+H8AAAAAAAD4fwAAAAAAAPh/AAAAAAAA+H8AAAAAAAD4fwAAAAAAAPh/pRvfWmlIUj8AAAAAAAD4fwAAAAAAAPh/AAAAAAAA+H+lG99aaUhSPwAAAAAAAPh/AAAAAAAA+H8AAAAAAAD4fwAAAAAAAPh/eKlOCJ5sez+lG99aaUhSPwAAAAAAAPh/AAAAAAAA+H8AAAAAAAD4fwAAAAAAAPh/AAAAAAAA+H8ExvLckCOJPwAAAAAAAPh/AAAAAAAA+H8AAAAAAAD4f3ipTgiebHs/pRvfWmlIcj8AAAAAAAD4fwAAAAAAAPh/AAAAAAAA+H8AAAAAAAD4fwAAAAAAAPh/AAAAAAAA+H8AAAAAAAD4fwAAAAAAAPh/AAAAAAAA+H+lG99aaUhSPwAAAAAAAPh/AAAAAAAA+H8AAAAAAAD4f6Ub31ppSFI/AAAAAAAA+H8AAAAAAAD4fwAAAAAAAPh/AAAAAAAA+H94qU4Inmx7P6Ub31ppSFI/AAAAAAAA+H8AAAAAAAD4fwAAAAAAAPh/AAAAAAAA+H8AAAAAAAD4fxr/OoZ2kYQ/AAAAAAAA+H8AAAAAAAD4fwAAAAAAAPh/pRvfWmlIYj94qU4InmxrPwAAAAAAAPh/AAAAAAAA+H8AAAAAAAD4fwAAAAAAAPh/AAAAAAAA+H8AAAAAAAD4fwAAAAAAAPh/AAAAAAAA+H8AAAAAAAD4f6Ub31ppSFI/AAAAAAAA+H8AAAAAAAD4fwAAAAAAAPh/pRvfWmlIUj8AAAAAAAD4fwAAAAAAAPh/AAAAAAAA+H8AAAAAAAD4f3ipTgiebHs/pRvfWmlIUj8AAAAAAAD4fwAAAAAAAPh/AAAAAAAA+H8AAAAAAAD4fwAAAAAAAPh/j+KWsYPadj8AAAAAAAD4fwAAAAAAAPh/AAAAAAAA+H8AAAAAAAD4f6Ub31ppSGI/AAAAAAAA+H8AAAAAAAD4fwAAAAAAAPh/AAAAAAAA+H8AAAAAAAD4fwAAAAAAAPh/AAAAAAAA+H8AAAAAAAD4fwAAAAAAAPh/AAAAAAAA+H8AAAAAAAD4fwAAAAAAAPh/AAAAAAAA+H+lG99aaUhSPwAAAAAAAPh/AAAAAAAA+H8AAAAAAAD4fwAAAAAAAPh/j+KWsYPadj+lG99aaUhSPwAAAAAAAPh/AAAAAAAA+H8AAAAAAAD4fwAAAAAAAPh/AAAAAAAA+H+P4paxg9p2PwAAAAAAAPh/AAAAAAAA+H8AAAAAAAD4fwAAAAAAAPh/pRvfWmlIYj8AAAAAAAD4fwAAAAAAAPh/AAAAAAAA+H8AAAAAAAD4fwAAAAAAAPh/AAAAAAAA+H8AAAAAAAD4fwAAAAAAAPh/AAAAAAAA+H8AAAAAAAD4fwAAAAAAAPh/AAAAAAAA+H8AAAAAAAD4f6Ub31ppSFI/AAAAAAAA+H8AAAAAAAD4fwAAAAAAAPh/AAAAAAAA+H+P4paxg9p2P6Ub31ppSFI/AAAAAAAA+H8AAAAAAAD4fwAAAAAAAPh/AAAAAAAA+H8AAAAAAAD4f6Ub31ppSHI/AAAAAAAA+H8AAAAAAAD4fwAAAAAAAPh/AAAAAAAA+H+lG99aaUhiPwAAAAAAAPh/AAAAAAAA+H8AAAAAAAD4fwAAAAAAAPh/AAAAAAAA+H8AAAAAAAD4fwAAAAAAAPh/AAAAAAAA+H8AAAAAAAD4fwAAAAAAAPh/AAAAAAAA+H8AAAAAAAD4fwAAAAAAAPh/",
          "dtype": "f8",
          "shape": "30, 30"
         },
         "zmax": 100,
         "zmin": 0
        }
       ],
       "layout": {
        "annotations": [
         {
          "bgcolor": "white",
          "bordercolor": "blue",
          "borderpad": 2,
          "borderwidth": 1,
          "font": {
           "color": "blue"
          },
          "showarrow": false,
          "text": "Haiyan Landfall",
          "x": "2013-11-08T00:00:00",
          "xanchor": "left",
          "y": 1,
          "yref": "paper"
         }
        ],
        "height": 600,
        "shapes": [
         {
          "line": {
           "color": "blue",
           "dash": "dash",
           "width": 1.5
          },
          "type": "line",
          "x0": "2013-11-08T12:00:00",
          "x1": "2013-11-08T12:00:00",
          "xref": "x",
          "y0": 0,
          "y1": 1,
          "yref": "y domain"
         }
        ],
        "template": {
         "data": {
          "bar": [
           {
            "error_x": {
             "color": "#2a3f5f"
            },
            "error_y": {
             "color": "#2a3f5f"
            },
            "marker": {
             "line": {
              "color": "#E5ECF6",
              "width": 0.5
             },
             "pattern": {
              "fillmode": "overlay",
              "size": 10,
              "solidity": 0.2
             }
            },
            "type": "bar"
           }
          ],
          "barpolar": [
           {
            "marker": {
             "line": {
              "color": "#E5ECF6",
              "width": 0.5
             },
             "pattern": {
              "fillmode": "overlay",
              "size": 10,
              "solidity": 0.2
             }
            },
            "type": "barpolar"
           }
          ],
          "carpet": [
           {
            "aaxis": {
             "endlinecolor": "#2a3f5f",
             "gridcolor": "white",
             "linecolor": "white",
             "minorgridcolor": "white",
             "startlinecolor": "#2a3f5f"
            },
            "baxis": {
             "endlinecolor": "#2a3f5f",
             "gridcolor": "white",
             "linecolor": "white",
             "minorgridcolor": "white",
             "startlinecolor": "#2a3f5f"
            },
            "type": "carpet"
           }
          ],
          "choropleth": [
           {
            "colorbar": {
             "outlinewidth": 0,
             "ticks": ""
            },
            "type": "choropleth"
           }
          ],
          "contour": [
           {
            "colorbar": {
             "outlinewidth": 0,
             "ticks": ""
            },
            "colorscale": [
             [
              0,
              "#0d0887"
             ],
             [
              0.1111111111111111,
              "#46039f"
             ],
             [
              0.2222222222222222,
              "#7201a8"
             ],
             [
              0.3333333333333333,
              "#9c179e"
             ],
             [
              0.4444444444444444,
              "#bd3786"
             ],
             [
              0.5555555555555556,
              "#d8576b"
             ],
             [
              0.6666666666666666,
              "#ed7953"
             ],
             [
              0.7777777777777778,
              "#fb9f3a"
             ],
             [
              0.8888888888888888,
              "#fdca26"
             ],
             [
              1,
              "#f0f921"
             ]
            ],
            "type": "contour"
           }
          ],
          "contourcarpet": [
           {
            "colorbar": {
             "outlinewidth": 0,
             "ticks": ""
            },
            "type": "contourcarpet"
           }
          ],
          "heatmap": [
           {
            "colorbar": {
             "outlinewidth": 0,
             "ticks": ""
            },
            "colorscale": [
             [
              0,
              "#0d0887"
             ],
             [
              0.1111111111111111,
              "#46039f"
             ],
             [
              0.2222222222222222,
              "#7201a8"
             ],
             [
              0.3333333333333333,
              "#9c179e"
             ],
             [
              0.4444444444444444,
              "#bd3786"
             ],
             [
              0.5555555555555556,
              "#d8576b"
             ],
             [
              0.6666666666666666,
              "#ed7953"
             ],
             [
              0.7777777777777778,
              "#fb9f3a"
             ],
             [
              0.8888888888888888,
              "#fdca26"
             ],
             [
              1,
              "#f0f921"
             ]
            ],
            "type": "heatmap"
           }
          ],
          "histogram": [
           {
            "marker": {
             "pattern": {
              "fillmode": "overlay",
              "size": 10,
              "solidity": 0.2
             }
            },
            "type": "histogram"
           }
          ],
          "histogram2d": [
           {
            "colorbar": {
             "outlinewidth": 0,
             "ticks": ""
            },
            "colorscale": [
             [
              0,
              "#0d0887"
             ],
             [
              0.1111111111111111,
              "#46039f"
             ],
             [
              0.2222222222222222,
              "#7201a8"
             ],
             [
              0.3333333333333333,
              "#9c179e"
             ],
             [
              0.4444444444444444,
              "#bd3786"
             ],
             [
              0.5555555555555556,
              "#d8576b"
             ],
             [
              0.6666666666666666,
              "#ed7953"
             ],
             [
              0.7777777777777778,
              "#fb9f3a"
             ],
             [
              0.8888888888888888,
              "#fdca26"
             ],
             [
              1,
              "#f0f921"
             ]
            ],
            "type": "histogram2d"
           }
          ],
          "histogram2dcontour": [
           {
            "colorbar": {
             "outlinewidth": 0,
             "ticks": ""
            },
            "colorscale": [
             [
              0,
              "#0d0887"
             ],
             [
              0.1111111111111111,
              "#46039f"
             ],
             [
              0.2222222222222222,
              "#7201a8"
             ],
             [
              0.3333333333333333,
              "#9c179e"
             ],
             [
              0.4444444444444444,
              "#bd3786"
             ],
             [
              0.5555555555555556,
              "#d8576b"
             ],
             [
              0.6666666666666666,
              "#ed7953"
             ],
             [
              0.7777777777777778,
              "#fb9f3a"
             ],
             [
              0.8888888888888888,
              "#fdca26"
             ],
             [
              1,
              "#f0f921"
             ]
            ],
            "type": "histogram2dcontour"
           }
          ],
          "mesh3d": [
           {
            "colorbar": {
             "outlinewidth": 0,
             "ticks": ""
            },
            "type": "mesh3d"
           }
          ],
          "parcoords": [
           {
            "line": {
             "colorbar": {
              "outlinewidth": 0,
              "ticks": ""
             }
            },
            "type": "parcoords"
           }
          ],
          "pie": [
           {
            "automargin": true,
            "type": "pie"
           }
          ],
          "scatter": [
           {
            "fillpattern": {
             "fillmode": "overlay",
             "size": 10,
             "solidity": 0.2
            },
            "type": "scatter"
           }
          ],
          "scatter3d": [
           {
            "line": {
             "colorbar": {
              "outlinewidth": 0,
              "ticks": ""
             }
            },
            "marker": {
             "colorbar": {
              "outlinewidth": 0,
              "ticks": ""
             }
            },
            "type": "scatter3d"
           }
          ],
          "scattercarpet": [
           {
            "marker": {
             "colorbar": {
              "outlinewidth": 0,
              "ticks": ""
             }
            },
            "type": "scattercarpet"
           }
          ],
          "scattergeo": [
           {
            "marker": {
             "colorbar": {
              "outlinewidth": 0,
              "ticks": ""
             }
            },
            "type": "scattergeo"
           }
          ],
          "scattergl": [
           {
            "marker": {
             "colorbar": {
              "outlinewidth": 0,
              "ticks": ""
             }
            },
            "type": "scattergl"
           }
          ],
          "scattermap": [
           {
            "marker": {
             "colorbar": {
              "outlinewidth": 0,
              "ticks": ""
             }
            },
            "type": "scattermap"
           }
          ],
          "scattermapbox": [
           {
            "marker": {
             "colorbar": {
              "outlinewidth": 0,
              "ticks": ""
             }
            },
            "type": "scattermapbox"
           }
          ],
          "scatterpolar": [
           {
            "marker": {
             "colorbar": {
              "outlinewidth": 0,
              "ticks": ""
             }
            },
            "type": "scatterpolar"
           }
          ],
          "scatterpolargl": [
           {
            "marker": {
             "colorbar": {
              "outlinewidth": 0,
              "ticks": ""
             }
            },
            "type": "scatterpolargl"
           }
          ],
          "scatterternary": [
           {
            "marker": {
             "colorbar": {
              "outlinewidth": 0,
              "ticks": ""
             }
            },
            "type": "scatterternary"
           }
          ],
          "surface": [
           {
            "colorbar": {
             "outlinewidth": 0,
             "ticks": ""
            },
            "colorscale": [
             [
              0,
              "#0d0887"
             ],
             [
              0.1111111111111111,
              "#46039f"
             ],
             [
              0.2222222222222222,
              "#7201a8"
             ],
             [
              0.3333333333333333,
              "#9c179e"
             ],
             [
              0.4444444444444444,
              "#bd3786"
             ],
             [
              0.5555555555555556,
              "#d8576b"
             ],
             [
              0.6666666666666666,
              "#ed7953"
             ],
             [
              0.7777777777777778,
              "#fb9f3a"
             ],
             [
              0.8888888888888888,
              "#fdca26"
             ],
             [
              1,
              "#f0f921"
             ]
            ],
            "type": "surface"
           }
          ],
          "table": [
           {
            "cells": {
             "fill": {
              "color": "#EBF0F8"
             },
             "line": {
              "color": "white"
             }
            },
            "header": {
             "fill": {
              "color": "#C8D4E3"
             },
             "line": {
              "color": "white"
             }
            },
            "type": "table"
           }
          ]
         },
         "layout": {
          "annotationdefaults": {
           "arrowcolor": "#2a3f5f",
           "arrowhead": 0,
           "arrowwidth": 1
          },
          "autotypenumbers": "strict",
          "coloraxis": {
           "colorbar": {
            "outlinewidth": 0,
            "ticks": ""
           }
          },
          "colorscale": {
           "diverging": [
            [
             0,
             "#8e0152"
            ],
            [
             0.1,
             "#c51b7d"
            ],
            [
             0.2,
             "#de77ae"
            ],
            [
             0.3,
             "#f1b6da"
            ],
            [
             0.4,
             "#fde0ef"
            ],
            [
             0.5,
             "#f7f7f7"
            ],
            [
             0.6,
             "#e6f5d0"
            ],
            [
             0.7,
             "#b8e186"
            ],
            [
             0.8,
             "#7fbc41"
            ],
            [
             0.9,
             "#4d9221"
            ],
            [
             1,
             "#276419"
            ]
           ],
           "sequential": [
            [
             0,
             "#0d0887"
            ],
            [
             0.1111111111111111,
             "#46039f"
            ],
            [
             0.2222222222222222,
             "#7201a8"
            ],
            [
             0.3333333333333333,
             "#9c179e"
            ],
            [
             0.4444444444444444,
             "#bd3786"
            ],
            [
             0.5555555555555556,
             "#d8576b"
            ],
            [
             0.6666666666666666,
             "#ed7953"
            ],
            [
             0.7777777777777778,
             "#fb9f3a"
            ],
            [
             0.8888888888888888,
             "#fdca26"
            ],
            [
             1,
             "#f0f921"
            ]
           ],
           "sequentialminus": [
            [
             0,
             "#0d0887"
            ],
            [
             0.1111111111111111,
             "#46039f"
            ],
            [
             0.2222222222222222,
             "#7201a8"
            ],
            [
             0.3333333333333333,
             "#9c179e"
            ],
            [
             0.4444444444444444,
             "#bd3786"
            ],
            [
             0.5555555555555556,
             "#d8576b"
            ],
            [
             0.6666666666666666,
             "#ed7953"
            ],
            [
             0.7777777777777778,
             "#fb9f3a"
            ],
            [
             0.8888888888888888,
             "#fdca26"
            ],
            [
             1,
             "#f0f921"
            ]
           ]
          },
          "colorway": [
           "#636efa",
           "#EF553B",
           "#00cc96",
           "#ab63fa",
           "#FFA15A",
           "#19d3f3",
           "#FF6692",
           "#B6E880",
           "#FF97FF",
           "#FECB52"
          ],
          "font": {
           "color": "#2a3f5f"
          },
          "geo": {
           "bgcolor": "white",
           "lakecolor": "white",
           "landcolor": "#E5ECF6",
           "showlakes": true,
           "showland": true,
           "subunitcolor": "white"
          },
          "hoverlabel": {
           "align": "left"
          },
          "hovermode": "closest",
          "mapbox": {
           "style": "light"
          },
          "paper_bgcolor": "white",
          "plot_bgcolor": "#E5ECF6",
          "polar": {
           "angularaxis": {
            "gridcolor": "white",
            "linecolor": "white",
            "ticks": ""
           },
           "bgcolor": "#E5ECF6",
           "radialaxis": {
            "gridcolor": "white",
            "linecolor": "white",
            "ticks": ""
           }
          },
          "scene": {
           "xaxis": {
            "backgroundcolor": "#E5ECF6",
            "gridcolor": "white",
            "gridwidth": 2,
            "linecolor": "white",
            "showbackground": true,
            "ticks": "",
            "zerolinecolor": "white"
           },
           "yaxis": {
            "backgroundcolor": "#E5ECF6",
            "gridcolor": "white",
            "gridwidth": 2,
            "linecolor": "white",
            "showbackground": true,
            "ticks": "",
            "zerolinecolor": "white"
           },
           "zaxis": {
            "backgroundcolor": "#E5ECF6",
            "gridcolor": "white",
            "gridwidth": 2,
            "linecolor": "white",
            "showbackground": true,
            "ticks": "",
            "zerolinecolor": "white"
           }
          },
          "shapedefaults": {
           "line": {
            "color": "#2a3f5f"
           }
          },
          "ternary": {
           "aaxis": {
            "gridcolor": "white",
            "linecolor": "white",
            "ticks": ""
           },
           "baxis": {
            "gridcolor": "white",
            "linecolor": "white",
            "ticks": ""
           },
           "bgcolor": "#E5ECF6",
           "caxis": {
            "gridcolor": "white",
            "linecolor": "white",
            "ticks": ""
           }
          },
          "title": {
           "x": 0.05
          },
          "xaxis": {
           "automargin": true,
           "gridcolor": "white",
           "linecolor": "white",
           "ticks": "",
           "title": {
            "standoff": 15
           },
           "zerolinecolor": "white",
           "zerolinewidth": 2
          },
          "yaxis": {
           "automargin": true,
           "gridcolor": "white",
           "linecolor": "white",
           "ticks": "",
           "title": {
            "standoff": 15
           },
           "zerolinecolor": "white",
           "zerolinewidth": 2
          }
         }
        },
        "title": {
         "text": "Latest High-Quality Retrieval: Pixel % per Day Bucket"
        },
        "width": 1200,
        "xaxis": {
         "title": {
          "text": "Date"
         }
        },
        "yaxis": {
         "title": {
          "text": "Days Since Last High-Quality Retrieval"
         }
        }
       }
      }
     },
     "metadata": {},
     "output_type": "display_data"
    }
   ],
   "source": [
    "import os\n",
    "import numpy as np\n",
    "import pandas as pd\n",
    "import rasterio\n",
    "import plotly.graph_objs as go\n",
    "from datetime import datetime\n",
    "\n",
    "# --- Setup ---\n",
    "folder = \"../Datasets/VNP46A2_AllBands_Nov2013/\"\n",
    "tif_files = sorted([f for f in os.listdir(folder) if f.endswith('.tif')])\n",
    "date_list = [f[-12:-4] for f in tif_files]  # Extract YYYYMMDD from filenames\n",
    "\n",
    "# --- Extract retrieval day counts ---\n",
    "histograms = {}\n",
    "\n",
    "for date in date_list:\n",
    "    file_path = os.path.join(folder, f\"VNP46A2_Region8_{date}.tif\")\n",
    "    with rasterio.open(file_path) as src:\n",
    "        highq_band = src.read(4).astype(float)\n",
    "        cloud_mask = src.read(6).astype(float)\n",
    "        valid_mask = ~np.isnan(cloud_mask)\n",
    "\n",
    "        highq_band[~valid_mask] = np.nan\n",
    "        clean = highq_band[~np.isnan(highq_band)]\n",
    "\n",
    "        days = np.clip(clean.astype(int), 1, 30)\n",
    "        hist = pd.Series(days).value_counts().reindex(range(1, 31), fill_value=0)\n",
    "        histograms[date] = hist\n",
    "\n",
    "# --- DataFrame ---\n",
    "hist_matrix = pd.DataFrame(histograms)\n",
    "hist_matrix.index = hist_matrix.index.astype(int)\n",
    "hist_matrix = hist_matrix.sort_index(axis=1)\n",
    "z = (hist_matrix.values / 89614) * 100\n",
    "z[z == 0] = None\n",
    "\n",
    "x_labels = [datetime.strptime(d, \"%Y%m%d\").strftime(\"%b-%d\") for d in hist_matrix.columns]\n",
    "x_datetimes = [datetime.strptime(d, \"%Y%m%d\") for d in hist_matrix.columns]\n",
    "\n",
    "# --- Plot ---\n",
    "fig = go.Figure(data=go.Heatmap(\n",
    "    z=z,\n",
    "    x=x_datetimes,\n",
    "    y=hist_matrix.index,\n",
    "    colorscale='YlGnBu',\n",
    "    colorbar=dict(title='Pixel %', ticksuffix='%'),\n",
    "    zmin=0,\n",
    "    zmax=100,\n",
    "    showscale=True\n",
    "))\n",
    "\n",
    "# --- Add Typhoon Haiyan (Nov 8, 2013) event marker ---\n",
    "storm_events = [\n",
    "    {\"date\": \"20131108\", \"name\": \"Haiyan Landfall\"}\n",
    "]\n",
    "\n",
    "for event in storm_events:\n",
    "    event_date = pd.to_datetime(event[\"date\"])\n",
    "    fig.add_vline(\n",
    "        x=event_date + pd.Timedelta(days=0.5),\n",
    "        line_width=1.5,\n",
    "        line_dash=\"dash\",\n",
    "        line_color=\"blue\"\n",
    "    )\n",
    "    fig.add_annotation(\n",
    "        x=event_date,\n",
    "        y=1,\n",
    "        yref='paper',\n",
    "        text=event[\"name\"],\n",
    "        showarrow=False,\n",
    "        font=dict(color=\"blue\"),\n",
    "        bgcolor=\"white\",\n",
    "        bordercolor=\"blue\",\n",
    "        borderwidth=1,\n",
    "        borderpad=2,\n",
    "        xanchor=\"left\"\n",
    "    )\n",
    "\n",
    "# --- Layout ---\n",
    "fig.update_layout(\n",
    "    title='Latest High-Quality Retrieval: Pixel % per Day Bucket',\n",
    "    xaxis_title='Date',\n",
    "    yaxis_title='Days Since Last High-Quality Retrieval',\n",
    "    height=600,\n",
    "    width=1200\n",
    ")\n",
    "\n",
    "fig.write_html(\"../HTML Files/Retrieval Age Profile.html\",\n",
    "            include_plotlyjs='cdn',\n",
    "            full_html=False)\n",
    "fig.show()"
   ]
  },
  {
   "cell_type": "code",
   "execution_count": 89,
   "id": "cfba30df",
   "metadata": {},
   "outputs": [],
   "source": [
    "target_dates = [f\"201311{str(d).zfill(2)}\" for d in range(6, 14)]\n",
    "filtered_files = [f for f in file_list if any(d in f for d in target_dates)]\n",
    "\n",
    "daily_data = []\n",
    "for f in filtered_files:\n",
    "    with rasterio.open(os.path.join(folder, f)) as src:\n",
    "        bands = src.read()\n",
    "        date = f[-12:-4]  # assumes date is like '20131108' in filename\n",
    "        h, w = src.height, src.width\n",
    "        l, b, r, t = src.bounds\n",
    "        lons = np.linspace(l, r, w)\n",
    "        lats = np.linspace(t, b, h)\n",
    "        daily_data.append({'date': date, 'bands': bands, 'lons': lons, 'lats': lats})"
   ]
  },
  {
   "cell_type": "code",
   "execution_count": 90,
   "id": "af867717",
   "metadata": {},
   "outputs": [],
   "source": [
    "def format_date(date_str):\n",
    "    return datetime.strptime(date_str, \"%Y%m%d\").strftime(\"%b %d, %Y\")\n",
    "\n",
    "def decode_qf_cloud_mask(mask):\n",
    "    mask = mask.astype(np.uint16)\n",
    "    return {\n",
    "        'Confidence': (mask >> 6) & 0b11,\n",
    "        'Cloud Quality': (mask >> 4) & 0b11,\n",
    "        'Land/Water': (mask >> 1) & 0b111,\n",
    "        'Day/Night': mask & 0b1\n",
    "    }\n",
    "\n",
    "def log10(z):\n",
    "    return np.where(z > 0, np.log10(z), np.nan)"
   ]
  },
  {
   "cell_type": "code",
   "execution_count": 101,
   "id": "af7fa974",
   "metadata": {},
   "outputs": [],
   "source": [
    "def build_dashboard(data):\n",
    "    fig = make_subplots(rows=2, cols=6,\n",
    "                        shared_yaxes=True)\n",
    "        \n",
    "    #     subplot_titles=[\n",
    "    #     \"DNB_BRDF_Corrected_NTL\", \"Gap_Filled_NTL\", \"DNB_Lunar_Irradiance\",\n",
    "    #     \"Latest_High_Quality_Retrieval\", \"Mandatory_Quality_Flag\", \"QF_Cloud_Mask\",\n",
    "    #     \"Pixel Availability\", \"Avg Radiance Difference\", \"Lunar Histogram\",\n",
    "    #     \"Retrieval Histogram\", \"Mandatory QF Histogram\", \"Cloud Confidence\"\n",
    "    # ])\n",
    "\n",
    "    date = data['date']\n",
    "    bands = data['bands']\n",
    "    lons, lats = data['lons'], data['lats']\n",
    "\n",
    "    # Band order per TIFFs\n",
    "    dnb = bands[0]\n",
    "    lunar = bands[1]\n",
    "    gap = bands[2]\n",
    "    highq = bands[3]\n",
    "    mandatory = np.where(bands[4] == 255, np.nan, bands[4])\n",
    "    cloud = bands[5]\n",
    "\n",
    "    # --- TOP ROW HEATMAPS ---\n",
    "    top_bands = [\n",
    "        ((dnb*10), 'Cividis', \"DNB NTL\", 0.13),\n",
    "        ((gap*10), 'Cividis', \"Gap Filled\", 0.30),\n",
    "        ((lunar), 'Cividis', \"Lunar\", 0.47),        \n",
    "        # (log10(dnb), 'Cividis', \"DNB NTL\", 0.13),\n",
    "        # (log10(gap), 'Cividis', \"Gap Filled\", 0.30),\n",
    "        # (log10(lunar), 'Cividis', \"Lunar\", 0.47),\n",
    "        (highq, 'Bluered', \"HighQ Age\", 0.64),\n",
    "        (mandatory, 'Viridis', \"Mandatory QF\", 0.81),\n",
    "        (cloud, 'Jet', \"Cloud Mask\", 0.98)\n",
    "    ]\n",
    "\n",
    "    # Define custom max values per band\n",
    "    custom_zmax = {\n",
    "        \"DNB NTL\": 10,\n",
    "        \"Gap Filled\": 10,\n",
    "        \"Lunar\": 1,\n",
    "    }\n",
    "\n",
    "    for i, (z, cmap, title, xpos) in enumerate(top_bands):\n",
    "        fig.add_trace(go.Heatmap(\n",
    "            z=z, x=lons, y=lats,\n",
    "            colorscale=cmap,\n",
    "            showscale=True,\n",
    "            colorbar=dict(title=title, x=xpos, len=0.2, y=0.95, thickness=15),\n",
    "            zmin=0 if i < 3 else None, zmax=custom_zmax.get(title, None)\n",
    "        ), row=1, col=i+1)\n",
    "\n",
    "    # --- BOTTOM ROW PLOTS (log-scale y-axis) ---\n",
    "\n",
    "    # 1. DNB Pixel Availability\n",
    "    total = np.count_nonzero(~np.isnan(cloud))\n",
    "    valid = np.count_nonzero(dnb > 0)\n",
    "\n",
    "    if total > 0:\n",
    "        pct_valid = f\"{(valid / total) * 100:.1f}%\"\n",
    "        total_label = \"100%\"\n",
    "    else:\n",
    "        pct_valid = \"0%\"\n",
    "        total_label = \"0%\"\n",
    "\n",
    "    fig.add_trace(go.Bar(\n",
    "        x=[\"Valid DNB\", \"Total Pixels\"],\n",
    "        y=[valid, total],\n",
    "        marker_color=[\"green\", \"gray\"],\n",
    "        text=[pct_valid, total_label],\n",
    "        textposition=\"outside\"\n",
    "    ), row=2, col=1)\n",
    "\n",
    "    # 2. Avg Radiance (match stats logic)\n",
    "    mask = cloud.astype(np.float32)\n",
    "    valid_mask = ~np.isnan(mask)\n",
    "\n",
    "    gap_data = gap.astype(np.float32)\n",
    "    dnb_data = dnb.astype(np.float32)\n",
    "\n",
    "    gap_data[~valid_mask] = np.nan\n",
    "    dnb_data[~valid_mask] = np.nan\n",
    "\n",
    "    gap_valid = gap_data[~np.isnan(gap_data)]\n",
    "    dnb_valid = dnb_data[~np.isnan(dnb_data)]\n",
    "\n",
    "    avg_gap = np.mean(gap_valid) if gap_valid.size > 0 else 0\n",
    "    avg_dnb = np.mean(dnb_valid) if dnb_valid.size > 0 else 0\n",
    "\n",
    "    fig.add_trace(go.Bar(\n",
    "        x=[\"Gap_Filled\", \"DNB\"],\n",
    "        y=[avg_gap, avg_dnb],\n",
    "        marker_color=[\"red\", \"blue\"]\n",
    "    ), row=2, col=2)\n",
    "\n",
    "        # 3. Lunar Histogram → Percent-labeled bar (NaN-safe)\n",
    "    clean_lunar = lunar.flatten()\n",
    "    clean_lunar = clean_lunar[~np.isnan(clean_lunar)]\n",
    "    counts, bins = np.histogram(clean_lunar, bins=30)\n",
    "    bin_centers = 0.5 * (bins[:-1] + bins[1:])\n",
    "    total = counts.sum()\n",
    "    labels = [f\"{(c / total * 100):.1f}%\" for c in counts]\n",
    "    fig.add_trace(go.Bar(\n",
    "        x=bin_centers,\n",
    "        y=counts,\n",
    "        marker_color=\"orange\",\n",
    "        text=labels,\n",
    "        textposition=\"outside\"\n",
    "    ), row=2, col=3)\n",
    "\n",
    "    # 4. Retrieval Histogram → Percent-labeled bar (NaN-safe)\n",
    "    clean_highq = highq.flatten()\n",
    "    clean_highq = clean_highq[~np.isnan(clean_highq)]\n",
    "    counts, bins = np.histogram(clean_highq, bins=25)\n",
    "    bin_centers = 0.5 * (bins[:-1] + bins[1:])\n",
    "    total = counts.sum()\n",
    "    labels = [f\"{(c / total * 100):.1f}%\" for c in counts]\n",
    "    fig.add_trace(go.Bar(\n",
    "        x=bin_centers,\n",
    "        y=counts,\n",
    "        marker_color=\"red\",  # or color-mapped\n",
    "        text=labels,\n",
    "        textposition=\"outside\"\n",
    "    ), row=2, col=4)\n",
    "\n",
    "    # 5. Mandatory QF Histogram → Percent-labeled bar (NaN-safe)\n",
    "    # Filter out fill value 255\n",
    "    filtered_qf = mandatory[(~np.isnan(mandatory)) & (mandatory != 255)]\n",
    "\n",
    "    # Get counts per class\n",
    "    classes, counts = np.unique(filtered_qf, return_counts=True)\n",
    "    total = counts.sum()\n",
    "    labels = [f\"{(c / total * 100):.1f}%\" for c in counts]\n",
    "\n",
    "    # Apply human-readable labels\n",
    "    label_map = {\n",
    "        0: \"Persistent (0)\",\n",
    "        1: \"Ephemeral (1)\",\n",
    "        2: \"Poor Quality (2)\"\n",
    "    }\n",
    "    class_labels = [label_map.get(c, str(c)) for c in classes]\n",
    "\n",
    "    fig.add_trace(go.Bar(\n",
    "        x=class_labels,\n",
    "        y=counts,\n",
    "        text=labels,\n",
    "        textposition=\"outside\",\n",
    "        marker_color=\"teal\"\n",
    "    ), row=2, col=5)\n",
    "\n",
    "    # 6. Cloud Confidence Histogram → Percent-labeled bar (assumes no NaNs)\n",
    "    conf = decode_qf_cloud_mask(cloud)['Confidence']\n",
    "    classes, counts = np.unique(conf, return_counts=True)\n",
    "    total = counts.sum()\n",
    "    labels = [f\"{(c / total * 100):.1f}%\" for c in counts]\n",
    "    fig.add_trace(go.Bar(\n",
    "        x=classes,\n",
    "        y=counts,\n",
    "        marker_color=\"purple\",  # or color-mapped\n",
    "        text=labels,\n",
    "        textposition=\"outside\"\n",
    "    ), row=2, col=6)\n",
    "\n",
    "    # Layout\n",
    "    fig.update_layout(\n",
    "        height=600, width=1200,\n",
    "        title=f\"VNP46A2 Dashboard — {format_date(date)}\",\n",
    "        showlegend=False\n",
    "    )\n",
    "\n",
    "    # Axes and Log scale\n",
    "    for i in range(6):\n",
    "        fig.update_yaxes(type=\"log\", row=2, col=i+1)\n",
    "\n",
    "\n",
    "    # Row 2 labels (customized per chart)\n",
    "    fig.update_xaxes(title_text=\"DNB Validity\", row=2, col=1)\n",
    "    fig.update_yaxes(title_text=\"Count (log)\", row=2, col=1)\n",
    "\n",
    "    fig.update_xaxes(title_text=\"Band\", row=2, col=2)\n",
    "    fig.update_yaxes(title_text=\"Average Radiance\", row=2, col=2)\n",
    "\n",
    "    fig.update_xaxes(title_text=\"Lunar Irradiance\", row=2, col=3)\n",
    "    fig.update_yaxes(title_text=\"Frequency (log)\", row=2, col=3)\n",
    "\n",
    "    fig.update_xaxes(title_text=\"Days Since HighQ\", row=2, col=4)\n",
    "    fig.update_yaxes(title_text=\"Frequency (log)\", row=2, col=4)\n",
    "\n",
    "    fig.update_xaxes(title_text=\"Mandatory QF Class\", row=2, col=5)\n",
    "    fig.update_yaxes(title_text=\"Frequency (log)\", row=2, col=5)\n",
    "\n",
    "    fig.update_xaxes(title_text=\"Cloud Confidence\", row=2, col=6)\n",
    "    fig.update_yaxes(title_text=\"Frequency (log)\", row=2, col=6)\n",
    "\n",
    "\n",
    "    fig.update_yaxes(type=\"log\", row=2, col=5, range=[0, 5])  # log10(100k) = 5    \n",
    "    \n",
    "    # Disable y-axis sharing for bottom row only (yaxis7 to yaxis12)\n",
    "    for i in range(7, 13):\n",
    "        fig.layout[f'yaxis{i}'].matches = None\n",
    "        fig.layout[f'yaxis{i}'].autorange = True\n",
    "\n",
    "    return fig\n",
    "\n"
   ]
  },
  {
   "cell_type": "code",
   "execution_count": 134,
   "id": "6b3d06e4",
   "metadata": {},
   "outputs": [],
   "source": [
    "# # --- Animate Slider (fixed) ---\n",
    "# def format_date(date_str):\n",
    "#     return datetime.strptime(date_str, \"%Y%m%d\").strftime(\"%b %d, %Y\")\n",
    "\n",
    "# frames = [\n",
    "#     go.Frame(\n",
    "#         data=build_dashboard(d).data,\n",
    "#         name=format_date(d['date']),\n",
    "#         layout=go.Layout(\n",
    "#             title_text=f\"VNP46A2 Dashboard — {format_date(d['date'])}\",\n",
    "#             yaxis11=dict(autorange=True)  # row=2, col=5 corresponds to yaxis11\n",
    "#         )\n",
    "#     )\n",
    "#     for d in daily_data\n",
    "# ]\n",
    "\n",
    "# layout = build_dashboard(daily_data[0]).layout\n",
    "# layout.update(\n",
    "#     updatemenus=[],\n",
    "#     sliders=[dict(\n",
    "#         steps=[\n",
    "#             dict(\n",
    "#                 method='animate',\n",
    "#                 args=[[format_date(d['date'])], dict(mode='immediate', frame=dict(duration=10000, redraw=True))],\n",
    "#                 label=format_date(d['date'])\n",
    "#             ) for d in daily_data\n",
    "#         ],\n",
    "#         active=0,\n",
    "#         x=0.1,\n",
    "#         y=-0.1, len = 0.8\n",
    "#     )]\n",
    "# )\n",
    "\n",
    "\n",
    "# # --- Display ---\n",
    "# fig = go.Figure(\n",
    "#     data=build_dashboard(daily_data[0]).data,\n",
    "#     layout=layout,\n",
    "#     frames=frames\n",
    "# )\n",
    "\n",
    "# fig.write_html(\"../HTML Files/VNP46A2 Dashboard.html\",\n",
    "#             include_plotlyjs='cdn',\n",
    "#             full_html=False)\n",
    "# fig.show()"
   ]
  },
  {
   "cell_type": "code",
   "execution_count": null,
   "id": "5be216d5",
   "metadata": {},
   "outputs": [
    {
     "data": {
      "image/png": "[encoded data removed]",
      "text/plain": [
       "<Figure size 1800x800 with 18 Axes>"
      ]
     },
     "metadata": {},
     "output_type": "display_data"
    },
    {
     "data": {
      "application/vnd.jupyter.widget-view+json": {
       "model_id": "317517b1ea59439ab95c64b8637e3737",
       "version_major": 2,
       "version_minor": 0
      },
      "text/plain": [
       "interactive(children=(Dropdown(description='Date:', options=(('Nov 01, 2013', 0), ('Nov 02, 2013', 1), ('Nov 0…"
      ]
     },
     "metadata": {},
     "output_type": "display_data"
    },
    {
     "data": {
      "text/plain": [
       "<function __main__.<lambda>(d)>"
      ]
     },
     "execution_count": 105,
     "metadata": {},
     "output_type": "execute_result"
    },
    {
     "data": {
      "image/png": "[encoded data removed]",
      "text/plain": [
       "<Figure size 1800x800 with 18 Axes>"
      ]
     },
     "metadata": {},
     "output_type": "display_data"
    }
   ],
   "source": [
    "# import os\n",
    "# import numpy as np\n",
    "# import matplotlib.pyplot as plt\n",
    "# from matplotlib.gridspec import GridSpec\n",
    "# from ipywidgets import interact, Dropdown\n",
    "# import rasterio\n",
    "# from IPython.display import clear_output\n",
    "# from datetime import datetime\n",
    "\n",
    "# # --- Band Names ---\n",
    "# band_names = [\n",
    "#     'DNB_BRDF_Corrected_NTL',\n",
    "#     'DNB_Lunar_Irradiance',\n",
    "#     'Gap_Filled_DNB_BRDF_Corrected_NTL',\n",
    "#     'Latest_High_Quality_Retrieval',\n",
    "#     'Mandatory_Quality_Flag',\n",
    "#     'QF_Cloud_Mask',\n",
    "#     'Snow_Flag'\n",
    "# ]\n",
    "\n",
    "# def decode_qf_cloud_mask(mask):\n",
    "#     return {'Confidence': (mask >> 6) & 0b11}\n",
    "\n",
    "# def format_date(d): \n",
    "#     return datetime.strptime(d, \"%Y%m%d\").strftime(\"%b %d, %Y\")\n",
    "\n",
    "# def load_daily_data(folder):\n",
    "#     tif_files = sorted([f for f in os.listdir(folder) if f.endswith('.tif')])\n",
    "#     data_list = []\n",
    "\n",
    "#     for fname in tif_files:\n",
    "#         date = fname[-12:-4]\n",
    "#         with rasterio.open(os.path.join(folder, fname)) as src:\n",
    "#             bands = src.read()\n",
    "#             h, w = src.height, src.width\n",
    "#             l, b, r, t = src.bounds\n",
    "#             lons = np.linspace(l, r, w)\n",
    "#             lats = np.linspace(t, b, h)\n",
    "#             data_list.append({\n",
    "#                 \"date\": date,\n",
    "#                 \"bands\": bands,\n",
    "#                 \"lons\": lons,\n",
    "#                 \"lats\": lats,\n",
    "#                 \"extent\": [lons[0], lons[-1], lats[-1], lats[0]]  # left, right, bottom, top\n",
    "#             })\n",
    "\n",
    "#     return data_list\n",
    "\n",
    "# def plot_dashboard(data):\n",
    "#     clear_output(wait=True)\n",
    "\n",
    "#     bands = data['bands']\n",
    "#     lons = data['lons']\n",
    "#     lats = data['lats']\n",
    "#     extent = data['extent']\n",
    "#     date = data['date']\n",
    "\n",
    "#     dnb = bands[0].astype(float) * 10\n",
    "#     lunar = bands[1].astype(float)\n",
    "#     gap = bands[2].astype(float) * 10\n",
    "#     highq = bands[3].astype(float)\n",
    "#     mandatory = np.where(bands[4] == 255, np.nan, bands[4].astype(float))\n",
    "#     cloud = bands[5].astype(float)\n",
    "#     mask = ~np.isnan(cloud)\n",
    "\n",
    "#     fig = plt.figure(figsize=(18, 8))\n",
    "#     gs = GridSpec(2, 6, figure=fig, hspace=0.4)\n",
    "\n",
    "#     # --- TOP ROW HEATMAPS ---\n",
    "#     heatmaps = [\n",
    "#         (dnb, 'DNB NTL', 'cividis', 10),\n",
    "#         (gap, 'Gap Filled', 'cividis', 10),\n",
    "#         (lunar, 'Lunar', 'cividis', 1),\n",
    "#         (highq, 'HighQ Age', 'RdBu', None),\n",
    "#         (mandatory, 'Mandatory QF', 'viridis', None),\n",
    "#         (cloud, 'Cloud Mask', 'jet', None)\n",
    "#     ]\n",
    "\n",
    "#     for i, (z, title, cmap, vmax) in enumerate(heatmaps):\n",
    "#         ax = fig.add_subplot(gs[0, i])\n",
    "#         img = ax.imshow(z, cmap=cmap, vmin=0 if vmax else None, vmax=vmax,\n",
    "#                         extent=extent, origin='upper', aspect='auto')\n",
    "#         ax.set_title(title, fontsize=9)\n",
    "#         ax.set_xticks([]); ax.set_yticks([])\n",
    "#         plt.colorbar(img, ax=ax, fraction=0.046, pad=0.01)\n",
    "\n",
    "#     # --- BOTTOM ROW ---\n",
    "\n",
    "#     # 1. DNB Validity\n",
    "#     total = np.count_nonzero(mask)\n",
    "#     valid = np.count_nonzero((dnb > 0) & mask)\n",
    "#     ax = fig.add_subplot(gs[1, 0])\n",
    "#     ax.bar(['Valid', 'Total'], [valid, total], color=['green', 'gray'])\n",
    "#     ax.set_yscale('log'); ax.set_title('DNB Validity')\n",
    "#     ax.set_ylabel('Count (log)')\n",
    "\n",
    "#     # 2. Average Radiance\n",
    "#     gap_valid = gap[mask & (gap > 0)]\n",
    "#     dnb_valid = dnb[mask & (dnb > 0)]\n",
    "#     ax = fig.add_subplot(gs[1, 1])\n",
    "#     ax.bar(['Gap', 'DNB'], [np.mean(gap_valid), np.mean(dnb_valid)], color=['red', 'blue'])\n",
    "#     ax.set_title('Average Radiance')\n",
    "\n",
    "#     # 3. Lunar Histogram\n",
    "#     ax = fig.add_subplot(gs[1, 2])\n",
    "#     clean = lunar[mask]\n",
    "#     ax.hist(clean[~np.isnan(clean)], bins=30, color='orange')\n",
    "#     ax.set_yscale('log'); ax.set_title('Lunar Histogram')\n",
    "\n",
    "#     # 4. HighQ Age Histogram\n",
    "#     ax = fig.add_subplot(gs[1, 3])\n",
    "#     clean = highq[mask]\n",
    "#     ax.hist(clean[~np.isnan(clean)], bins=25, color='red')\n",
    "#     ax.set_yscale('log'); ax.set_title('Days Since HighQ')\n",
    "\n",
    "#     # 5. Mandatory QF\n",
    "#     ax = fig.add_subplot(gs[1, 4])\n",
    "#     vals = mandatory[mask]\n",
    "#     vals = vals[~np.isnan(vals)]\n",
    "#     labels = ['Persistent', 'Ephemeral', 'Poor Q']\n",
    "#     bins = [0, 1, 2]\n",
    "#     counts = [np.sum(vals == i) for i in bins]\n",
    "#     ax.bar(labels, counts, color='teal')\n",
    "#     ax.set_yscale('log'); ax.set_title('Mandatory QF')\n",
    "\n",
    "#     # 6. Cloud Confidence\n",
    "#     ax = fig.add_subplot(gs[1, 5])\n",
    "#     conf = decode_qf_cloud_mask(cloud)['Confidence']\n",
    "#     counts = [np.sum(conf == i) for i in range(4)]\n",
    "#     ax.bar(range(4), counts, color='purple')\n",
    "#     ax.set_xticks(range(4)); ax.set_xticklabels([str(i) for i in range(4)])\n",
    "#     ax.set_yscale('log'); ax.set_title('Cloud Confidence')\n",
    "\n",
    "#     fig.suptitle(f\"VNP46A2 Dashboard — {format_date(date)}\", fontsize=14)\n",
    "#     plt.tight_layout(rect=[0, 0.03, 1, 0.95])\n",
    "#     plt.show()\n",
    "\n",
    "# # --- Load data & setup slider ---\n",
    "# folder = \"../Datasets/VNP46A2_AllBands_Nov2013/\"\n",
    "# daily_data = load_daily_data(folder)\n",
    "\n",
    "# dropdown = Dropdown(\n",
    "#     options=[(format_date(d[\"date\"]), i) for i, d in enumerate(daily_data)],\n",
    "#     description='Date:'\n",
    "# )\n",
    "# interact(lambda d: plot_dashboard(daily_data[d]), d=dropdown)"
   ]
  },
  {
   "cell_type": "code",
   "execution_count": 110,
   "id": "b53776e2",
   "metadata": {},
   "outputs": [],
   "source": [
    "# import os\n",
    "# import numpy as np\n",
    "# import matplotlib.pyplot as plt\n",
    "# from matplotlib.gridspec import GridSpec\n",
    "# from celluloid import Camera\n",
    "# import rasterio\n",
    "# import mpld3\n",
    "# from datetime import datetime\n",
    "\n",
    "# # ------------------------\n",
    "# # Configuration\n",
    "# # ------------------------\n",
    "# folder = \"../Datasets/VNP46A2_AllBands_Nov2013/\"\n",
    "\n",
    "# band_names = [\n",
    "#     'DNB_BRDF_Corrected_NTL',\n",
    "#     'DNB_Lunar_Irradiance',\n",
    "#     'Gap_Filled_DNB_BRDF_Corrected_NTL',\n",
    "#     'Latest_High_Quality_Retrieval',\n",
    "#     'Mandatory_Quality_Flag',\n",
    "#     'QF_Cloud_Mask',\n",
    "#     'Snow_Flag'\n",
    "# ]\n",
    "\n",
    "# def decode_qf_cloud_mask(mask):\n",
    "#     return {'Confidence': (mask >> 6) & 0b11}\n",
    "\n",
    "# def format_date(d): \n",
    "#     return datetime.strptime(d, \"%Y%m%d\").strftime(\"%b %d, %Y\")\n",
    "\n",
    "# def load_daily_data(folder):\n",
    "#     tif_files = sorted([f for f in os.listdir(folder) if f.endswith('.tif')])\n",
    "#     data_list = []\n",
    "#     for fname in tif_files:\n",
    "#         date = fname[-12:-4]\n",
    "#         with rasterio.open(os.path.join(folder, fname)) as src:\n",
    "#             bands = src.read()\n",
    "#             h, w = src.height, src.width\n",
    "#             l, b, r, t = src.bounds\n",
    "#             lons = np.linspace(l, r, w)\n",
    "#             lats = np.linspace(t, b, h)\n",
    "#             data_list.append({\n",
    "#                 \"date\": date,\n",
    "#                 \"bands\": bands,\n",
    "#                 \"lons\": lons,\n",
    "#                 \"lats\": lats,\n",
    "#                 \"extent\": [lons[0], lons[-1], lats[-1], lats[0]]  # left, right, bottom, top\n",
    "#             })\n",
    "#     return data_list\n",
    "\n",
    "# # ------------------------\n",
    "# # Dashboard Drawing Logic\n",
    "# # ------------------------\n",
    "# def draw_dashboard(fig, gs, data):\n",
    "#     bands = data['bands']\n",
    "#     extent = data['extent']\n",
    "#     date = data['date']\n",
    "\n",
    "#     dnb = bands[0].astype(float) * 10\n",
    "#     lunar = bands[1].astype(float)\n",
    "#     gap = bands[2].astype(float) * 10\n",
    "#     highq = bands[3].astype(float)\n",
    "#     mandatory = np.where(bands[4] == 255, np.nan, bands[4].astype(float))\n",
    "#     cloud = bands[5].astype(float)\n",
    "#     mask = ~np.isnan(cloud)\n",
    "\n",
    "#     # --- TOP ROW HEATMAPS ---\n",
    "#     heatmaps = [\n",
    "#         (dnb, 'DNB NTL', 'cividis', 10),\n",
    "#         (gap, 'Gap Filled', 'cividis', 10),\n",
    "#         (lunar, 'Lunar', 'cividis', 1),\n",
    "#         (highq, 'HighQ Age', 'RdBu', None),\n",
    "#         (mandatory, 'Mandatory QF', 'viridis', None),\n",
    "#         (cloud, 'Cloud Mask', 'jet', None)\n",
    "#     ]\n",
    "\n",
    "#     for i, (z, title, cmap, vmax) in enumerate(heatmaps):\n",
    "#         ax = fig.add_subplot(gs[0, i])\n",
    "#         img = ax.imshow(z, cmap=cmap, vmin=0 if vmax is not None else None,\n",
    "#                         vmax=vmax, extent=extent, origin='upper', aspect='equal')\n",
    "#         ax.set_title(title, fontsize=9)\n",
    "#         ax.set_xticks([]); ax.set_yticks([])\n",
    "#         plt.colorbar(img, ax=ax, fraction=0.035, pad=0.02)\n",
    "\n",
    "#     # --- BOTTOM ROW PLOTS ---\n",
    "\n",
    "#     # 1. DNB Validity\n",
    "#     total = np.count_nonzero(mask)\n",
    "#     valid = np.count_nonzero((dnb > 0) & mask)\n",
    "#     ax = fig.add_subplot(gs[1, 0])\n",
    "#     ax.bar(['Valid', 'Total'], [valid, total], color=['green', 'gray'])\n",
    "#     ax.set_yscale('log'); ax.set_title('DNB Validity')\n",
    "#     ax.set_ylabel('Count (log)')\n",
    "\n",
    "#     # 2. Avg Radiance\n",
    "#     gap_valid = gap[mask & (gap > 0)]\n",
    "#     dnb_valid = dnb[mask & (dnb > 0)]\n",
    "#     ax = fig.add_subplot(gs[1, 1])\n",
    "#     ax.bar(['Gap', 'DNB'], [np.mean(gap_valid), np.mean(dnb_valid)], color=['red', 'blue'])\n",
    "#     ax.set_title('Average Radiance')\n",
    "\n",
    "#     # 3. Lunar Histogram\n",
    "#     ax = fig.add_subplot(gs[1, 2])\n",
    "#     clean = lunar[mask]\n",
    "#     ax.hist(clean[~np.isnan(clean)], bins=30, color='orange')\n",
    "#     ax.set_yscale('log'); ax.set_title('Lunar Histogram')\n",
    "\n",
    "#     # 4. HighQ Histogram\n",
    "#     ax = fig.add_subplot(gs[1, 3])\n",
    "#     clean = highq[mask]\n",
    "#     ax.hist(clean[~np.isnan(clean)], bins=25, color='red')\n",
    "#     ax.set_yscale('log'); ax.set_title('Days Since HighQ')\n",
    "\n",
    "#     # 5. Mandatory QF\n",
    "#     ax = fig.add_subplot(gs[1, 4])\n",
    "#     vals = mandatory[mask]\n",
    "#     vals = vals[~np.isnan(vals)]\n",
    "#     labels = ['Persistent', 'Ephemeral', 'Poor Q']\n",
    "#     bins = [0, 1, 2]\n",
    "#     counts = [np.sum(vals == i) for i in bins]\n",
    "#     ax.bar(labels, counts, color='teal')\n",
    "#     ax.set_yscale('log'); ax.set_title('Mandatory QF')\n",
    "\n",
    "#     # 6. Cloud Confidence\n",
    "#     ax = fig.add_subplot(gs[1, 5])\n",
    "#     conf = decode_qf_cloud_mask(cloud)['Confidence']\n",
    "#     counts = [np.sum(conf == i) for i in range(4)]\n",
    "#     ax.bar(range(4), counts, color='purple')\n",
    "#     ax.set_xticks(range(4)); ax.set_xticklabels([str(i) for i in range(4)])\n",
    "#     ax.set_yscale('log'); ax.set_title('Cloud Confidence')\n",
    "\n",
    "#     fig.suptitle(f\"VNP46A2 Dashboard — {format_date(date)}\", fontsize=14)\n",
    "\n",
    "# # ------------------------\n",
    "# # Animate and Export\n",
    "# # ------------------------\n",
    "# def export_dashboard_animation(data_list, output_html=\"dashboard.html\"):\n",
    "#     fig = plt.figure(figsize=(18, 8))\n",
    "#     gs = GridSpec(2, 6, figure=fig, hspace=0.4)\n",
    "#     camera = Camera(fig)\n",
    "\n",
    "#     for data in data_list:\n",
    "#         draw_dashboard(fig, gs, data)\n",
    "#         camera.snap()\n",
    "\n",
    "#     anim = camera.animate()\n",
    "#     html = mpld3.fig_to_html(fig)\n",
    "#     with open(output_html, \"w\") as f:\n",
    "#         f.write(html)\n",
    "\n",
    "#     print(f\"✅ HTML dashboard saved to {output_html}\")\n",
    "\n",
    "# # ------------------------\n",
    "# # Run\n",
    "# # ------------------------\n",
    "# if __name__ == \"__main__\":\n",
    "#     data = load_daily_data(folder)\n",
    "#     export_dashboard_animation(data, output_html=\"VNP46A2_Dashboard.html\")"
   ]
  },
  {
   "cell_type": "code",
   "execution_count": null,
   "id": "e68e1334",
   "metadata": {},
   "outputs": [],
   "source": []
  }
 ],
 "metadata": {
  "kernelspec": {
   "display_name": ".venv",
   "language": "python",
   "name": "python3"
  },
  "language_info": {
   "codemirror_mode": {
    "name": "ipython",
    "version": 3
   },
   "file_extension": ".py",
   "mimetype": "text/x-python",
   "name": "python",
   "nbconvert_exporter": "python",
   "pygments_lexer": "ipython3",
   "version": "3.9.6"
  }
 },
 "nbformat": 4,
 "nbformat_minor": 5
}
