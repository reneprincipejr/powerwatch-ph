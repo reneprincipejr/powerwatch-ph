{
 "cells": [
  {
   "cell_type": "code",
   "execution_count": 1,
   "id": "14a8ca38-e4f0-4107-b959-53866c87d5ea",
   "metadata": {},
   "outputs": [],
   "source": [
    "import os\n",
    "\n",
    "from tqdm import tqdm\n",
    "\n",
    "import itertools\n",
    "import warnings\n",
    "warnings.filterwarnings('ignore')\n",
    "\n",
    "from matplotlib import gridspec\n",
    "import matplotlib.dates as mdates\n",
    "from matplotlib.dates import DateFormatter\n",
    "import matplotlib.dates as mdates\n",
    "from matplotlib import cm\n",
    "import matplotlib.ticker as mtick\n",
    "from matplotlib.ticker import MaxNLocator\n",
    "import matplotlib.patches as patches\n",
    "\n",
    "import datetime\n",
    "from scipy import stats\n",
    "from scipy.stats import pearsonr\n",
    "import statsmodels.api as sm\n",
    "\n",
    "import numpy as np\n",
    "import pandas as pd\n",
    "import matplotlib.pyplot as plt\n",
    "import seaborn as sns\n",
    "import plotly.graph_objects as go\n",
    "\n",
    "from statsmodels.tsa.seasonal import STL\n"
   ]
  },
  {
   "cell_type": "code",
   "execution_count": null,
   "id": "6cfa2169-aa1d-49c5-b0c9-7c26d8b4e194",
   "metadata": {},
   "outputs": [],
   "source": [
    "NTL_subset = NTL_data[['Leyte', 'Samar']].reset_index().rename(columns={'index': 'Date'})#.dropna()\n",
    "# NTL_subset.set_index('Date')\n",
    "\n",
    "trend_df = pd.DataFrame(index=NTL_data.index)\n",
    "seasonal_df = pd.DataFrame(index=NTL_data.index)\n",
    "\n",
    "for col in ['Leyte', 'Samar']:\n",
    "    series = NTL_data[col].dropna()\n",
    "    decomposition = sm.tsa.seasonal_decompose(series, model='additive', period=4)\n",
    "    trend_df[col] = decomposition.trend\n",
    "    seasonal_df[col] = decomposition.seasonal"
   ]
  }
 ],
 "metadata": {
  "kernelspec": {
   "display_name": "Python [conda env:base] *",
   "language": "python",
   "name": "conda-base-py"
  },
  "language_info": {
   "codemirror_mode": {
    "name": "ipython",
    "version": 3
   },
   "file_extension": ".py",
   "mimetype": "text/x-python",
   "name": "python",
   "nbconvert_exporter": "python",
   "pygments_lexer": "ipython3",
   "version": "3.12.2"
  }
 },
 "nbformat": 4,
 "nbformat_minor": 5
}
